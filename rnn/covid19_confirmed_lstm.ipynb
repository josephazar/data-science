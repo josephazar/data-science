{
 "cells": [
  {
   "cell_type": "markdown",
   "metadata": {},
   "source": [
    "# Daily Coronavirus Cases Forecasting Using LSTM With Keras"
   ]
  },
  {
   "cell_type": "markdown",
   "metadata": {},
   "source": [
    "This notebook is a demonstration of how you would use Recurrent Neural Networks for some real-world time series data with Keras."
   ]
  },
  {
   "cell_type": "markdown",
   "metadata": {},
   "source": [
    "Please refer to the below repository to download the dataset:\n",
    "\n",
    "This is the data repository for the 2019 Novel Coronavirus Visual Dashboard operated by the Johns Hopkins University Center for Systems Science and Engineering (JHU CSSE). Also, Supported by ESRI Living Atlas Team and the Johns Hopkins University Applied Physics Lab (JHU APL).\n",
    "https://github.com/CSSEGISandData/COVID-19\n",
    "\n",
    "In the following, we will be working on the confirmed cases and not the recovered/death cases."
   ]
  },
  {
   "cell_type": "markdown",
   "metadata": {},
   "source": [
    "### Importing the libraries"
   ]
  },
  {
   "cell_type": "code",
   "execution_count": 41,
   "metadata": {},
   "outputs": [],
   "source": [
    "import numpy as np\n",
    "import matplotlib.pyplot as plt\n",
    "import pandas as pd\n",
    "\n",
    "from tensorflow.keras.models import Sequential\n",
    "from tensorflow.keras.layers import Dense\n",
    "from tensorflow.keras.layers import LSTM\n",
    "from tensorflow.keras.layers import Dropout"
   ]
  },
  {
   "cell_type": "markdown",
   "metadata": {},
   "source": [
    "### Reading and processing the dataset"
   ]
  },
  {
   "cell_type": "code",
   "execution_count": 5,
   "metadata": {},
   "outputs": [],
   "source": [
    "#Make sure to change the path\n",
    "dataset = pd.read_csv('../../data/time_series_19-covid-Confirmed.csv')"
   ]
  },
  {
   "cell_type": "code",
   "execution_count": 8,
   "metadata": {},
   "outputs": [
    {
     "data": {
      "text/plain": [
       "Index(['Province/State', 'Country/Region', 'Lat', 'Long', '1/22/20', '1/23/20',\n",
       "       '1/24/20', '1/25/20', '1/26/20', '1/27/20', '1/28/20', '1/29/20',\n",
       "       '1/30/20', '1/31/20', '2/1/20', '2/2/20', '2/3/20', '2/4/20', '2/5/20',\n",
       "       '2/6/20', '2/7/20', '2/8/20', '2/9/20', '2/10/20', '2/11/20', '2/12/20',\n",
       "       '2/13/20', '2/14/20', '2/15/20', '2/16/20', '2/17/20', '2/18/20',\n",
       "       '2/19/20', '2/20/20', '2/21/20', '2/22/20', '2/23/20', '2/24/20',\n",
       "       '2/25/20', '2/26/20', '2/27/20', '2/28/20', '2/29/20', '3/1/20',\n",
       "       '3/2/20', '3/3/20', '3/4/20', '3/5/20', '3/6/20', '3/7/20', '3/8/20',\n",
       "       '3/9/20', '3/10/20', '3/11/20'],\n",
       "      dtype='object')"
      ]
     },
     "execution_count": 8,
     "metadata": {},
     "output_type": "execute_result"
    }
   ],
   "source": [
    "dataset.columns"
   ]
  },
  {
   "cell_type": "markdown",
   "metadata": {},
   "source": [
    "It can be seen that when I worked on this notebook, the dataset includes cases from 22/1/20 to 11/3/20. You may have more data since the dataset is updated regularly.\n",
    "\n",
    "We are not interested in the first four columns."
   ]
  },
  {
   "cell_type": "code",
   "execution_count": 9,
   "metadata": {},
   "outputs": [],
   "source": [
    "dataset=dataset.iloc[:,4:]"
   ]
  },
  {
   "cell_type": "code",
   "execution_count": 10,
   "metadata": {},
   "outputs": [
    {
     "data": {
      "text/plain": [
       "Index(['1/22/20', '1/23/20', '1/24/20', '1/25/20', '1/26/20', '1/27/20',\n",
       "       '1/28/20', '1/29/20', '1/30/20', '1/31/20', '2/1/20', '2/2/20',\n",
       "       '2/3/20', '2/4/20', '2/5/20', '2/6/20', '2/7/20', '2/8/20', '2/9/20',\n",
       "       '2/10/20', '2/11/20', '2/12/20', '2/13/20', '2/14/20', '2/15/20',\n",
       "       '2/16/20', '2/17/20', '2/18/20', '2/19/20', '2/20/20', '2/21/20',\n",
       "       '2/22/20', '2/23/20', '2/24/20', '2/25/20', '2/26/20', '2/27/20',\n",
       "       '2/28/20', '2/29/20', '3/1/20', '3/2/20', '3/3/20', '3/4/20', '3/5/20',\n",
       "       '3/6/20', '3/7/20', '3/8/20', '3/9/20', '3/10/20', '3/11/20'],\n",
       "      dtype='object')"
      ]
     },
     "execution_count": 10,
     "metadata": {},
     "output_type": "execute_result"
    }
   ],
   "source": [
    "dataset.columns"
   ]
  },
  {
   "cell_type": "code",
   "execution_count": 12,
   "metadata": {},
   "outputs": [
    {
     "data": {
      "text/html": [
       "<div>\n",
       "<style scoped>\n",
       "    .dataframe tbody tr th:only-of-type {\n",
       "        vertical-align: middle;\n",
       "    }\n",
       "\n",
       "    .dataframe tbody tr th {\n",
       "        vertical-align: top;\n",
       "    }\n",
       "\n",
       "    .dataframe thead th {\n",
       "        text-align: right;\n",
       "    }\n",
       "</style>\n",
       "<table border=\"1\" class=\"dataframe\">\n",
       "  <thead>\n",
       "    <tr style=\"text-align: right;\">\n",
       "      <th></th>\n",
       "      <th>1/22/20</th>\n",
       "      <th>1/23/20</th>\n",
       "      <th>1/24/20</th>\n",
       "      <th>1/25/20</th>\n",
       "      <th>1/26/20</th>\n",
       "      <th>1/27/20</th>\n",
       "      <th>1/28/20</th>\n",
       "      <th>1/29/20</th>\n",
       "      <th>1/30/20</th>\n",
       "      <th>1/31/20</th>\n",
       "      <th>...</th>\n",
       "      <th>3/2/20</th>\n",
       "      <th>3/3/20</th>\n",
       "      <th>3/4/20</th>\n",
       "      <th>3/5/20</th>\n",
       "      <th>3/6/20</th>\n",
       "      <th>3/7/20</th>\n",
       "      <th>3/8/20</th>\n",
       "      <th>3/9/20</th>\n",
       "      <th>3/10/20</th>\n",
       "      <th>3/11/20</th>\n",
       "    </tr>\n",
       "  </thead>\n",
       "  <tbody>\n",
       "    <tr>\n",
       "      <th>0</th>\n",
       "      <td>2</td>\n",
       "      <td>3</td>\n",
       "      <td>5</td>\n",
       "      <td>7</td>\n",
       "      <td>8</td>\n",
       "      <td>8</td>\n",
       "      <td>14</td>\n",
       "      <td>14</td>\n",
       "      <td>14</td>\n",
       "      <td>19</td>\n",
       "      <td>...</td>\n",
       "      <td>43</td>\n",
       "      <td>43</td>\n",
       "      <td>43</td>\n",
       "      <td>47</td>\n",
       "      <td>48</td>\n",
       "      <td>50</td>\n",
       "      <td>50</td>\n",
       "      <td>50</td>\n",
       "      <td>53</td>\n",
       "      <td>59</td>\n",
       "    </tr>\n",
       "    <tr>\n",
       "      <th>1</th>\n",
       "      <td>2</td>\n",
       "      <td>1</td>\n",
       "      <td>2</td>\n",
       "      <td>2</td>\n",
       "      <td>4</td>\n",
       "      <td>4</td>\n",
       "      <td>7</td>\n",
       "      <td>7</td>\n",
       "      <td>11</td>\n",
       "      <td>15</td>\n",
       "      <td>...</td>\n",
       "      <td>274</td>\n",
       "      <td>293</td>\n",
       "      <td>331</td>\n",
       "      <td>360</td>\n",
       "      <td>420</td>\n",
       "      <td>461</td>\n",
       "      <td>502</td>\n",
       "      <td>511</td>\n",
       "      <td>581</td>\n",
       "      <td>639</td>\n",
       "    </tr>\n",
       "    <tr>\n",
       "      <th>2</th>\n",
       "      <td>0</td>\n",
       "      <td>1</td>\n",
       "      <td>3</td>\n",
       "      <td>3</td>\n",
       "      <td>4</td>\n",
       "      <td>5</td>\n",
       "      <td>7</td>\n",
       "      <td>7</td>\n",
       "      <td>10</td>\n",
       "      <td>13</td>\n",
       "      <td>...</td>\n",
       "      <td>108</td>\n",
       "      <td>110</td>\n",
       "      <td>110</td>\n",
       "      <td>117</td>\n",
       "      <td>130</td>\n",
       "      <td>138</td>\n",
       "      <td>150</td>\n",
       "      <td>150</td>\n",
       "      <td>160</td>\n",
       "      <td>178</td>\n",
       "    </tr>\n",
       "    <tr>\n",
       "      <th>3</th>\n",
       "      <td>0</td>\n",
       "      <td>0</td>\n",
       "      <td>0</td>\n",
       "      <td>1</td>\n",
       "      <td>1</td>\n",
       "      <td>1</td>\n",
       "      <td>1</td>\n",
       "      <td>1</td>\n",
       "      <td>1</td>\n",
       "      <td>1</td>\n",
       "      <td>...</td>\n",
       "      <td>1</td>\n",
       "      <td>1</td>\n",
       "      <td>1</td>\n",
       "      <td>1</td>\n",
       "      <td>1</td>\n",
       "      <td>1</td>\n",
       "      <td>1</td>\n",
       "      <td>1</td>\n",
       "      <td>1</td>\n",
       "      <td>1</td>\n",
       "    </tr>\n",
       "    <tr>\n",
       "      <th>4</th>\n",
       "      <td>0</td>\n",
       "      <td>0</td>\n",
       "      <td>0</td>\n",
       "      <td>3</td>\n",
       "      <td>4</td>\n",
       "      <td>4</td>\n",
       "      <td>4</td>\n",
       "      <td>7</td>\n",
       "      <td>8</td>\n",
       "      <td>8</td>\n",
       "      <td>...</td>\n",
       "      <td>29</td>\n",
       "      <td>36</td>\n",
       "      <td>50</td>\n",
       "      <td>50</td>\n",
       "      <td>83</td>\n",
       "      <td>93</td>\n",
       "      <td>99</td>\n",
       "      <td>117</td>\n",
       "      <td>129</td>\n",
       "      <td>149</td>\n",
       "    </tr>\n",
       "    <tr>\n",
       "      <th>5</th>\n",
       "      <td>0</td>\n",
       "      <td>0</td>\n",
       "      <td>0</td>\n",
       "      <td>0</td>\n",
       "      <td>0</td>\n",
       "      <td>0</td>\n",
       "      <td>1</td>\n",
       "      <td>1</td>\n",
       "      <td>1</td>\n",
       "      <td>1</td>\n",
       "      <td>...</td>\n",
       "      <td>8</td>\n",
       "      <td>9</td>\n",
       "      <td>12</td>\n",
       "      <td>13</td>\n",
       "      <td>21</td>\n",
       "      <td>21</td>\n",
       "      <td>27</td>\n",
       "      <td>32</td>\n",
       "      <td>32</td>\n",
       "      <td>39</td>\n",
       "    </tr>\n",
       "    <tr>\n",
       "      <th>6</th>\n",
       "      <td>0</td>\n",
       "      <td>0</td>\n",
       "      <td>0</td>\n",
       "      <td>0</td>\n",
       "      <td>3</td>\n",
       "      <td>4</td>\n",
       "      <td>4</td>\n",
       "      <td>4</td>\n",
       "      <td>4</td>\n",
       "      <td>4</td>\n",
       "      <td>...</td>\n",
       "      <td>6</td>\n",
       "      <td>13</td>\n",
       "      <td>22</td>\n",
       "      <td>22</td>\n",
       "      <td>26</td>\n",
       "      <td>28</td>\n",
       "      <td>38</td>\n",
       "      <td>48</td>\n",
       "      <td>55</td>\n",
       "      <td>65</td>\n",
       "    </tr>\n",
       "    <tr>\n",
       "      <th>7</th>\n",
       "      <td>0</td>\n",
       "      <td>0</td>\n",
       "      <td>0</td>\n",
       "      <td>0</td>\n",
       "      <td>1</td>\n",
       "      <td>1</td>\n",
       "      <td>1</td>\n",
       "      <td>1</td>\n",
       "      <td>2</td>\n",
       "      <td>3</td>\n",
       "      <td>...</td>\n",
       "      <td>9</td>\n",
       "      <td>9</td>\n",
       "      <td>10</td>\n",
       "      <td>10</td>\n",
       "      <td>10</td>\n",
       "      <td>11</td>\n",
       "      <td>11</td>\n",
       "      <td>15</td>\n",
       "      <td>18</td>\n",
       "      <td>21</td>\n",
       "    </tr>\n",
       "    <tr>\n",
       "      <th>8</th>\n",
       "      <td>0</td>\n",
       "      <td>0</td>\n",
       "      <td>0</td>\n",
       "      <td>0</td>\n",
       "      <td>0</td>\n",
       "      <td>0</td>\n",
       "      <td>0</td>\n",
       "      <td>1</td>\n",
       "      <td>3</td>\n",
       "      <td>2</td>\n",
       "      <td>...</td>\n",
       "      <td>9</td>\n",
       "      <td>11</td>\n",
       "      <td>11</td>\n",
       "      <td>13</td>\n",
       "      <td>13</td>\n",
       "      <td>13</td>\n",
       "      <td>15</td>\n",
       "      <td>15</td>\n",
       "      <td>18</td>\n",
       "      <td>20</td>\n",
       "    </tr>\n",
       "    <tr>\n",
       "      <th>9</th>\n",
       "      <td>0</td>\n",
       "      <td>0</td>\n",
       "      <td>0</td>\n",
       "      <td>0</td>\n",
       "      <td>0</td>\n",
       "      <td>1</td>\n",
       "      <td>1</td>\n",
       "      <td>1</td>\n",
       "      <td>1</td>\n",
       "      <td>1</td>\n",
       "      <td>...</td>\n",
       "      <td>1</td>\n",
       "      <td>1</td>\n",
       "      <td>1</td>\n",
       "      <td>1</td>\n",
       "      <td>1</td>\n",
       "      <td>1</td>\n",
       "      <td>2</td>\n",
       "      <td>2</td>\n",
       "      <td>2</td>\n",
       "      <td>3</td>\n",
       "    </tr>\n",
       "    <tr>\n",
       "      <th>10</th>\n",
       "      <td>0</td>\n",
       "      <td>0</td>\n",
       "      <td>0</td>\n",
       "      <td>0</td>\n",
       "      <td>0</td>\n",
       "      <td>1</td>\n",
       "      <td>1</td>\n",
       "      <td>1</td>\n",
       "      <td>1</td>\n",
       "      <td>1</td>\n",
       "      <td>...</td>\n",
       "      <td>1</td>\n",
       "      <td>1</td>\n",
       "      <td>1</td>\n",
       "      <td>1</td>\n",
       "      <td>1</td>\n",
       "      <td>1</td>\n",
       "      <td>1</td>\n",
       "      <td>1</td>\n",
       "      <td>1</td>\n",
       "      <td>2</td>\n",
       "    </tr>\n",
       "    <tr>\n",
       "      <th>11</th>\n",
       "      <td>0</td>\n",
       "      <td>0</td>\n",
       "      <td>0</td>\n",
       "      <td>0</td>\n",
       "      <td>0</td>\n",
       "      <td>1</td>\n",
       "      <td>4</td>\n",
       "      <td>4</td>\n",
       "      <td>4</td>\n",
       "      <td>5</td>\n",
       "      <td>...</td>\n",
       "      <td>159</td>\n",
       "      <td>196</td>\n",
       "      <td>262</td>\n",
       "      <td>482</td>\n",
       "      <td>670</td>\n",
       "      <td>799</td>\n",
       "      <td>1040</td>\n",
       "      <td>1176</td>\n",
       "      <td>1457</td>\n",
       "      <td>1908</td>\n",
       "    </tr>\n",
       "    <tr>\n",
       "      <th>12</th>\n",
       "      <td>0</td>\n",
       "      <td>0</td>\n",
       "      <td>0</td>\n",
       "      <td>0</td>\n",
       "      <td>0</td>\n",
       "      <td>0</td>\n",
       "      <td>0</td>\n",
       "      <td>1</td>\n",
       "      <td>1</td>\n",
       "      <td>1</td>\n",
       "      <td>...</td>\n",
       "      <td>6</td>\n",
       "      <td>6</td>\n",
       "      <td>6</td>\n",
       "      <td>12</td>\n",
       "      <td>15</td>\n",
       "      <td>15</td>\n",
       "      <td>23</td>\n",
       "      <td>30</td>\n",
       "      <td>40</td>\n",
       "      <td>59</td>\n",
       "    </tr>\n",
       "    <tr>\n",
       "      <th>13</th>\n",
       "      <td>0</td>\n",
       "      <td>0</td>\n",
       "      <td>0</td>\n",
       "      <td>0</td>\n",
       "      <td>0</td>\n",
       "      <td>0</td>\n",
       "      <td>0</td>\n",
       "      <td>4</td>\n",
       "      <td>4</td>\n",
       "      <td>4</td>\n",
       "      <td>...</td>\n",
       "      <td>21</td>\n",
       "      <td>27</td>\n",
       "      <td>27</td>\n",
       "      <td>29</td>\n",
       "      <td>29</td>\n",
       "      <td>45</td>\n",
       "      <td>45</td>\n",
       "      <td>45</td>\n",
       "      <td>74</td>\n",
       "      <td>74</td>\n",
       "    </tr>\n",
       "    <tr>\n",
       "      <th>14</th>\n",
       "      <td>0</td>\n",
       "      <td>0</td>\n",
       "      <td>0</td>\n",
       "      <td>0</td>\n",
       "      <td>0</td>\n",
       "      <td>0</td>\n",
       "      <td>0</td>\n",
       "      <td>0</td>\n",
       "      <td>1</td>\n",
       "      <td>1</td>\n",
       "      <td>...</td>\n",
       "      <td>3</td>\n",
       "      <td>3</td>\n",
       "      <td>3</td>\n",
       "      <td>3</td>\n",
       "      <td>5</td>\n",
       "      <td>6</td>\n",
       "      <td>10</td>\n",
       "      <td>20</td>\n",
       "      <td>33</td>\n",
       "      <td>49</td>\n",
       "    </tr>\n",
       "    <tr>\n",
       "      <th>15</th>\n",
       "      <td>0</td>\n",
       "      <td>0</td>\n",
       "      <td>0</td>\n",
       "      <td>0</td>\n",
       "      <td>0</td>\n",
       "      <td>0</td>\n",
       "      <td>0</td>\n",
       "      <td>0</td>\n",
       "      <td>1</td>\n",
       "      <td>1</td>\n",
       "      <td>...</td>\n",
       "      <td>5</td>\n",
       "      <td>5</td>\n",
       "      <td>28</td>\n",
       "      <td>30</td>\n",
       "      <td>31</td>\n",
       "      <td>34</td>\n",
       "      <td>39</td>\n",
       "      <td>43</td>\n",
       "      <td>56</td>\n",
       "      <td>62</td>\n",
       "    </tr>\n",
       "    <tr>\n",
       "      <th>16</th>\n",
       "      <td>0</td>\n",
       "      <td>0</td>\n",
       "      <td>0</td>\n",
       "      <td>0</td>\n",
       "      <td>0</td>\n",
       "      <td>0</td>\n",
       "      <td>0</td>\n",
       "      <td>0</td>\n",
       "      <td>0</td>\n",
       "      <td>2</td>\n",
       "      <td>...</td>\n",
       "      <td>2036</td>\n",
       "      <td>2502</td>\n",
       "      <td>3089</td>\n",
       "      <td>3858</td>\n",
       "      <td>4636</td>\n",
       "      <td>5883</td>\n",
       "      <td>7375</td>\n",
       "      <td>9172</td>\n",
       "      <td>10149</td>\n",
       "      <td>12462</td>\n",
       "    </tr>\n",
       "    <tr>\n",
       "      <th>17</th>\n",
       "      <td>0</td>\n",
       "      <td>0</td>\n",
       "      <td>0</td>\n",
       "      <td>0</td>\n",
       "      <td>0</td>\n",
       "      <td>0</td>\n",
       "      <td>0</td>\n",
       "      <td>0</td>\n",
       "      <td>0</td>\n",
       "      <td>1</td>\n",
       "      <td>...</td>\n",
       "      <td>15</td>\n",
       "      <td>21</td>\n",
       "      <td>35</td>\n",
       "      <td>94</td>\n",
       "      <td>101</td>\n",
       "      <td>161</td>\n",
       "      <td>203</td>\n",
       "      <td>248</td>\n",
       "      <td>355</td>\n",
       "      <td>500</td>\n",
       "    </tr>\n",
       "    <tr>\n",
       "      <th>18</th>\n",
       "      <td>0</td>\n",
       "      <td>0</td>\n",
       "      <td>0</td>\n",
       "      <td>0</td>\n",
       "      <td>0</td>\n",
       "      <td>0</td>\n",
       "      <td>0</td>\n",
       "      <td>0</td>\n",
       "      <td>0</td>\n",
       "      <td>0</td>\n",
       "      <td>...</td>\n",
       "      <td>120</td>\n",
       "      <td>165</td>\n",
       "      <td>222</td>\n",
       "      <td>259</td>\n",
       "      <td>400</td>\n",
       "      <td>500</td>\n",
       "      <td>673</td>\n",
       "      <td>1073</td>\n",
       "      <td>1695</td>\n",
       "      <td>2277</td>\n",
       "    </tr>\n",
       "    <tr>\n",
       "      <th>19</th>\n",
       "      <td>0</td>\n",
       "      <td>0</td>\n",
       "      <td>0</td>\n",
       "      <td>0</td>\n",
       "      <td>0</td>\n",
       "      <td>0</td>\n",
       "      <td>0</td>\n",
       "      <td>0</td>\n",
       "      <td>0</td>\n",
       "      <td>0</td>\n",
       "      <td>...</td>\n",
       "      <td>3</td>\n",
       "      <td>3</td>\n",
       "      <td>5</td>\n",
       "      <td>5</td>\n",
       "      <td>7</td>\n",
       "      <td>7</td>\n",
       "      <td>7</td>\n",
       "      <td>7</td>\n",
       "      <td>7</td>\n",
       "      <td>9</td>\n",
       "    </tr>\n",
       "  </tbody>\n",
       "</table>\n",
       "<p>20 rows × 50 columns</p>\n",
       "</div>"
      ],
      "text/plain": [
       "    1/22/20  1/23/20  1/24/20  1/25/20  1/26/20  1/27/20  1/28/20  1/29/20  \\\n",
       "0         2        3        5        7        8        8       14       14   \n",
       "1         2        1        2        2        4        4        7        7   \n",
       "2         0        1        3        3        4        5        7        7   \n",
       "3         0        0        0        1        1        1        1        1   \n",
       "4         0        0        0        3        4        4        4        7   \n",
       "5         0        0        0        0        0        0        1        1   \n",
       "6         0        0        0        0        3        4        4        4   \n",
       "7         0        0        0        0        1        1        1        1   \n",
       "8         0        0        0        0        0        0        0        1   \n",
       "9         0        0        0        0        0        1        1        1   \n",
       "10        0        0        0        0        0        1        1        1   \n",
       "11        0        0        0        0        0        1        4        4   \n",
       "12        0        0        0        0        0        0        0        1   \n",
       "13        0        0        0        0        0        0        0        4   \n",
       "14        0        0        0        0        0        0        0        0   \n",
       "15        0        0        0        0        0        0        0        0   \n",
       "16        0        0        0        0        0        0        0        0   \n",
       "17        0        0        0        0        0        0        0        0   \n",
       "18        0        0        0        0        0        0        0        0   \n",
       "19        0        0        0        0        0        0        0        0   \n",
       "\n",
       "    1/30/20  1/31/20  ...  3/2/20  3/3/20  3/4/20  3/5/20  3/6/20  3/7/20  \\\n",
       "0        14       19  ...      43      43      43      47      48      50   \n",
       "1        11       15  ...     274     293     331     360     420     461   \n",
       "2        10       13  ...     108     110     110     117     130     138   \n",
       "3         1        1  ...       1       1       1       1       1       1   \n",
       "4         8        8  ...      29      36      50      50      83      93   \n",
       "5         1        1  ...       8       9      12      13      21      21   \n",
       "6         4        4  ...       6      13      22      22      26      28   \n",
       "7         2        3  ...       9       9      10      10      10      11   \n",
       "8         3        2  ...       9      11      11      13      13      13   \n",
       "9         1        1  ...       1       1       1       1       1       1   \n",
       "10        1        1  ...       1       1       1       1       1       1   \n",
       "11        4        5  ...     159     196     262     482     670     799   \n",
       "12        1        1  ...       6       6       6      12      15      15   \n",
       "13        4        4  ...      21      27      27      29      29      45   \n",
       "14        1        1  ...       3       3       3       3       5       6   \n",
       "15        1        1  ...       5       5      28      30      31      34   \n",
       "16        0        2  ...    2036    2502    3089    3858    4636    5883   \n",
       "17        0        1  ...      15      21      35      94     101     161   \n",
       "18        0        0  ...     120     165     222     259     400     500   \n",
       "19        0        0  ...       3       3       5       5       7       7   \n",
       "\n",
       "    3/8/20  3/9/20  3/10/20  3/11/20  \n",
       "0       50      50       53       59  \n",
       "1      502     511      581      639  \n",
       "2      150     150      160      178  \n",
       "3        1       1        1        1  \n",
       "4       99     117      129      149  \n",
       "5       27      32       32       39  \n",
       "6       38      48       55       65  \n",
       "7       11      15       18       21  \n",
       "8       15      15       18       20  \n",
       "9        2       2        2        3  \n",
       "10       1       1        1        2  \n",
       "11    1040    1176     1457     1908  \n",
       "12      23      30       40       59  \n",
       "13      45      45       74       74  \n",
       "14      10      20       33       49  \n",
       "15      39      43       56       62  \n",
       "16    7375    9172    10149    12462  \n",
       "17     203     248      355      500  \n",
       "18     673    1073     1695     2277  \n",
       "19       7       7        7        9  \n",
       "\n",
       "[20 rows x 50 columns]"
      ]
     },
     "execution_count": 12,
     "metadata": {},
     "output_type": "execute_result"
    }
   ],
   "source": [
    "dataset.head(20)"
   ]
  },
  {
   "cell_type": "markdown",
   "metadata": {},
   "source": [
    "By summing up all rows, we get the cumulative daily cases:"
   ]
  },
  {
   "cell_type": "code",
   "execution_count": 14,
   "metadata": {},
   "outputs": [
    {
     "data": {
      "text/plain": [
       "2020-01-22      555\n",
       "2020-01-23      653\n",
       "2020-01-24      941\n",
       "2020-01-25     1434\n",
       "2020-01-26     2118\n",
       "2020-01-27     2927\n",
       "2020-01-28     5578\n",
       "2020-01-29     6166\n",
       "2020-01-30     8234\n",
       "2020-01-31     9927\n",
       "2020-02-01    12038\n",
       "2020-02-02    16787\n",
       "2020-02-03    19881\n",
       "2020-02-04    23892\n",
       "2020-02-05    27635\n",
       "2020-02-06    30817\n",
       "2020-02-07    34391\n",
       "2020-02-08    37120\n",
       "2020-02-09    40150\n",
       "2020-02-10    42762\n",
       "dtype: int64"
      ]
     },
     "execution_count": 14,
     "metadata": {},
     "output_type": "execute_result"
    }
   ],
   "source": [
    "cum_daily_cases = dataset.sum(axis=0)\n",
    "cum_daily_cases.index = pd.to_datetime(cum_daily_cases.index)\n",
    "cum_daily_cases.head(20)"
   ]
  },
  {
   "cell_type": "code",
   "execution_count": 18,
   "metadata": {},
   "outputs": [
    {
     "data": {
      "text/plain": [
       "Text(0.5, 1.0, 'Cumulative daily cases')"
      ]
     },
     "execution_count": 18,
     "metadata": {},
     "output_type": "execute_result"
    },
    {
     "data": {
      "image/png": "[encoded data removed]",
      "text/plain": [
       "<Figure size 1440x720 with 1 Axes>"
      ]
     },
     "metadata": {
      "needs_background": "light"
     },
     "output_type": "display_data"
    }
   ],
   "source": [
    "plt.plot(cum_daily_cases)\n",
    "plt.rcParams[\"figure.figsize\"] = (30,30)\n",
    "plt.title(\"Cumulative daily cases\")"
   ]
  },
  {
   "cell_type": "markdown",
   "metadata": {},
   "source": [
    "We' ll reverse the accumulation by subtracting the present value from the previous one."
   ]
  },
  {
   "cell_type": "code",
   "execution_count": 21,
   "metadata": {},
   "outputs": [
    {
     "data": {
      "text/plain": [
       "2020-01-22     555\n",
       "2020-01-23      98\n",
       "2020-01-24     288\n",
       "2020-01-25     493\n",
       "2020-01-26     684\n",
       "2020-01-27     809\n",
       "2020-01-28    2651\n",
       "2020-01-29     588\n",
       "2020-01-30    2068\n",
       "2020-01-31    1693\n",
       "2020-02-01    2111\n",
       "2020-02-02    4749\n",
       "2020-02-03    3094\n",
       "2020-02-04    4011\n",
       "2020-02-05    3743\n",
       "2020-02-06    3182\n",
       "2020-02-07    3574\n",
       "2020-02-08    2729\n",
       "2020-02-09    3030\n",
       "2020-02-10    2612\n",
       "dtype: int64"
      ]
     },
     "execution_count": 21,
     "metadata": {},
     "output_type": "execute_result"
    }
   ],
   "source": [
    "daily_cases = cum_daily_cases.diff().fillna(cum_daily_cases[0]).astype(np.int64)\n",
    "daily_cases.head(20)"
   ]
  },
  {
   "cell_type": "code",
   "execution_count": 22,
   "metadata": {},
   "outputs": [
    {
     "data": {
      "text/plain": [
       "Text(0.5, 1.0, 'daily cases')"
      ]
     },
     "execution_count": 22,
     "metadata": {},
     "output_type": "execute_result"
    },
    {
     "data": {
      "image/png": "[encoded data removed]",
      "text/plain": [
       "<Figure size 2160x2160 with 1 Axes>"
      ]
     },
     "metadata": {
      "needs_background": "light"
     },
     "output_type": "display_data"
    }
   ],
   "source": [
    "plt.plot(daily_cases)\n",
    "plt.title(\"daily cases\")"
   ]
  },
  {
   "cell_type": "markdown",
   "metadata": {},
   "source": [
    "According to [1], The huge spike (in the middle) is mostly due to a change of criteria for testing patients in China. "
   ]
  },
  {
   "cell_type": "code",
   "execution_count": 25,
   "metadata": {},
   "outputs": [
    {
     "data": {
      "text/plain": [
       "(50,)"
      ]
     },
     "execution_count": 25,
     "metadata": {},
     "output_type": "execute_result"
    }
   ],
   "source": [
    "#amount of data\n",
    "daily_cases.shape"
   ]
  },
  {
   "cell_type": "markdown",
   "metadata": {},
   "source": [
    "We will assign the first 35 days for training and use the remainder for testing:"
   ]
  },
  {
   "cell_type": "markdown",
   "metadata": {},
   "source": [
    "### Splitting the data"
   ]
  },
  {
   "cell_type": "code",
   "execution_count": 26,
   "metadata": {},
   "outputs": [],
   "source": [
    "training_set = daily_cases[:-15]\n",
    "testing_set = daily_cases[-15:]"
   ]
  },
  {
   "cell_type": "code",
   "execution_count": 27,
   "metadata": {},
   "outputs": [
    {
     "data": {
      "text/plain": [
       "(35,)"
      ]
     },
     "execution_count": 27,
     "metadata": {},
     "output_type": "execute_result"
    }
   ],
   "source": [
    "training_set.shape"
   ]
  },
  {
   "cell_type": "code",
   "execution_count": 28,
   "metadata": {},
   "outputs": [
    {
     "data": {
      "text/plain": [
       "(15,)"
      ]
     },
     "execution_count": 28,
     "metadata": {},
     "output_type": "execute_result"
    }
   ],
   "source": [
    "testing_set.shape"
   ]
  },
  {
   "cell_type": "markdown",
   "metadata": {},
   "source": [
    "### Feature Scaling\n"
   ]
  },
  {
   "cell_type": "code",
   "execution_count": 30,
   "metadata": {},
   "outputs": [],
   "source": [
    "from sklearn.preprocessing import MinMaxScaler\n",
    "sc=MinMaxScaler(feature_range=(0,1))\n",
    "\n",
    "training_set_scaled=sc.fit_transform(np.expand_dims(training_set, axis=1))\n",
    "testing_set_scaled=sc.transform(np.expand_dims(testing_set, axis=1))"
   ]
  },
  {
   "cell_type": "code",
   "execution_count": 32,
   "metadata": {},
   "outputs": [
    {
     "name": "stdout",
     "output_type": "stream",
     "text": [
      "[[0.03036747]\n",
      " [0.        ]\n",
      " [0.01262542]\n",
      " [0.02624759]\n",
      " [0.03893946]\n",
      " [0.04724566]\n",
      " [0.16964582]\n",
      " [0.0325603 ]\n",
      " [0.13090571]\n",
      " [0.10598711]\n",
      " [0.13376304]\n",
      " [0.30905708]\n",
      " [0.199083  ]\n",
      " [0.26001728]\n",
      " [0.24220878]\n",
      " [0.20493056]\n",
      " [0.2309788 ]\n",
      " [0.17482889]\n",
      " [0.19483022]\n",
      " [0.16705429]\n",
      " [0.12904512]\n",
      " [0.02133032]\n",
      " [1.        ]\n",
      " [0.42653997]\n",
      " [0.13602233]\n",
      " [0.13927836]\n",
      " [0.12864642]\n",
      " [0.11828028]\n",
      " [0.02691209]\n",
      " [0.03056682]\n",
      " [0.03508539]\n",
      " [0.11017343]\n",
      " [0.01913748]\n",
      " [0.03355705]\n",
      " [0.04963785]]\n"
     ]
    }
   ],
   "source": [
    "print(training_set_scaled)"
   ]
  },
  {
   "cell_type": "code",
   "execution_count": 33,
   "metadata": {},
   "outputs": [
    {
     "name": "stdout",
     "output_type": "stream",
     "text": [
      "[[0.05874144]\n",
      " [0.08379294]\n",
      " [0.08425809]\n",
      " [0.11914413]\n",
      " [0.15017609]\n",
      " [0.12220081]\n",
      " [0.16187122]\n",
      " [0.14499302]\n",
      " [0.17702173]\n",
      " [0.25277427]\n",
      " [0.26174497]\n",
      " [0.25755864]\n",
      " [0.24373713]\n",
      " [0.37470928]\n",
      " [0.50315636]]\n"
     ]
    }
   ],
   "source": [
    "print(testing_set_scaled)"
   ]
  },
  {
   "cell_type": "markdown",
   "metadata": {},
   "source": [
    "Creating a data structure with 5 timesteps and 1 output at each time t the RNN will look at the 5 timesteps before time t (past information) RNN will try to learn and understand correlation in the past information"
   ]
  },
  {
   "cell_type": "code",
   "execution_count": 87,
   "metadata": {},
   "outputs": [],
   "source": [
    "#Input of the NN, will contain the 5 previous days before a current day\n",
    "X_train=[]\n",
    "# Will contain the number of cases the next day\n",
    "y_train=[]"
   ]
  },
  {
   "cell_type": "code",
   "execution_count": 88,
   "metadata": {},
   "outputs": [],
   "source": [
    "for i in range(5, 35):\n",
    "    X_train.append(training_set_scaled[i-5:i,0])\n",
    "    y_train.append(training_set_scaled[i,0]) #Ground truth\n",
    "X_train, y_train = np.array(X_train), np.array(y_train)  "
   ]
  },
  {
   "cell_type": "code",
   "execution_count": 89,
   "metadata": {},
   "outputs": [
    {
     "data": {
      "text/plain": [
       "(30, 5)"
      ]
     },
     "execution_count": 89,
     "metadata": {},
     "output_type": "execute_result"
    }
   ],
   "source": [
    "X_train.shape"
   ]
  },
  {
   "cell_type": "code",
   "execution_count": 90,
   "metadata": {},
   "outputs": [
    {
     "data": {
      "text/plain": [
       "(30,)"
      ]
     },
     "execution_count": 90,
     "metadata": {},
     "output_type": "execute_result"
    }
   ],
   "source": [
    "y_train.shape"
   ]
  },
  {
   "cell_type": "code",
   "execution_count": 91,
   "metadata": {},
   "outputs": [],
   "source": [
    "#Reshaping X_train\n",
    "X_train=np.reshape(X_train, (X_train.shape[0],X_train.shape[1],1))"
   ]
  },
  {
   "cell_type": "code",
   "execution_count": 92,
   "metadata": {},
   "outputs": [
    {
     "data": {
      "text/plain": [
       "(30, 5, 1)"
      ]
     },
     "execution_count": 92,
     "metadata": {},
     "output_type": "execute_result"
    }
   ],
   "source": [
    "X_train.shape"
   ]
  },
  {
   "cell_type": "markdown",
   "metadata": {},
   "source": [
    "### Building and training the RNN"
   ]
  },
  {
   "cell_type": "code",
   "execution_count": 93,
   "metadata": {},
   "outputs": [],
   "source": [
    "#Remember this is a regression problem\n",
    "regressor=Sequential()\n",
    "#First LSTM layer with 50 neurons\n",
    "regressor.add(LSTM(units=50,return_sequences=True,input_shape=(X_train.shape[1],1)))\n",
    "regressor.add(Dropout(0.2))\n",
    "#Second LSTM layer with 50 neurons\n",
    "regressor.add(LSTM(units=50,return_sequences=True))\n",
    "regressor.add(Dropout(0.2))\n",
    "#Third LSTM layer with 50 neurons\n",
    "regressor.add(LSTM(units=50,return_sequences=True))\n",
    "regressor.add(Dropout(0.2))\n",
    "#fourth LSTM layer with 50 neurons\n",
    "regressor.add(LSTM(units=50,return_sequences=False))\n",
    "regressor.add(Dropout(0.2))\n",
    "#Note that dropout is used for regularization\n",
    "#Adding the output layer\n",
    "#The output layer is a fully connected layer, fully connected to the previous LSTM layer\n",
    "#Dimension of the output layer is equal to 1\n",
    "regressor.add(Dense(units=1))\n",
    "\n",
    "#Compiling the RNN\n",
    "#we are doing regression so we use mean squared error as a loss function and not binary cross entropy\n",
    "regressor.compile(optimizer='adam',loss='mean_squared_error')"
   ]
  },
  {
   "cell_type": "code",
   "execution_count": 94,
   "metadata": {},
   "outputs": [
    {
     "name": "stdout",
     "output_type": "stream",
     "text": [
      "Train on 30 samples\n",
      "Epoch 1/100\n",
      "30/30 [==============================] - 1s 47ms/sample - loss: 0.0514\n",
      "Epoch 2/100\n",
      "30/30 [==============================] - 0s 2ms/sample - loss: 0.0340\n",
      "Epoch 3/100\n",
      "30/30 [==============================] - 0s 2ms/sample - loss: 0.0334\n",
      "Epoch 4/100\n",
      "30/30 [==============================] - 0s 2ms/sample - loss: 0.0322\n",
      "Epoch 5/100\n",
      "30/30 [==============================] - 0s 2ms/sample - loss: 0.0335\n",
      "Epoch 6/100\n",
      "30/30 [==============================] - 0s 2ms/sample - loss: 0.0322\n",
      "Epoch 7/100\n",
      "30/30 [==============================] - 0s 2ms/sample - loss: 0.0331\n",
      "Epoch 8/100\n",
      "30/30 [==============================] - 0s 2ms/sample - loss: 0.0341\n",
      "Epoch 9/100\n",
      "30/30 [==============================] - 0s 2ms/sample - loss: 0.0325\n",
      "Epoch 10/100\n",
      "30/30 [==============================] - 0s 2ms/sample - loss: 0.0325\n",
      "Epoch 11/100\n",
      "30/30 [==============================] - 0s 2ms/sample - loss: 0.0321\n",
      "Epoch 12/100\n",
      "30/30 [==============================] - 0s 2ms/sample - loss: 0.0313\n",
      "Epoch 13/100\n",
      "30/30 [==============================] - 0s 2ms/sample - loss: 0.0332\n",
      "Epoch 14/100\n",
      "30/30 [==============================] - 0s 2ms/sample - loss: 0.0324\n",
      "Epoch 15/100\n",
      "30/30 [==============================] - 0s 2ms/sample - loss: 0.0333\n",
      "Epoch 16/100\n",
      "30/30 [==============================] - 0s 2ms/sample - loss: 0.0354\n",
      "Epoch 17/100\n",
      "30/30 [==============================] - 0s 2ms/sample - loss: 0.0322\n",
      "Epoch 18/100\n",
      "30/30 [==============================] - 0s 2ms/sample - loss: 0.0334\n",
      "Epoch 19/100\n",
      "30/30 [==============================] - 0s 2ms/sample - loss: 0.0324\n",
      "Epoch 20/100\n",
      "30/30 [==============================] - 0s 2ms/sample - loss: 0.0328\n",
      "Epoch 21/100\n",
      "30/30 [==============================] - 0s 2ms/sample - loss: 0.0316\n",
      "Epoch 22/100\n",
      "30/30 [==============================] - 0s 2ms/sample - loss: 0.0324\n",
      "Epoch 23/100\n",
      "30/30 [==============================] - 0s 2ms/sample - loss: 0.0330\n",
      "Epoch 24/100\n",
      "30/30 [==============================] - 0s 2ms/sample - loss: 0.0345\n",
      "Epoch 25/100\n",
      "30/30 [==============================] - 0s 2ms/sample - loss: 0.0335\n",
      "Epoch 26/100\n",
      "30/30 [==============================] - 0s 2ms/sample - loss: 0.0330\n",
      "Epoch 27/100\n",
      "30/30 [==============================] - 0s 2ms/sample - loss: 0.0319\n",
      "Epoch 28/100\n",
      "30/30 [==============================] - 0s 2ms/sample - loss: 0.0331\n",
      "Epoch 29/100\n",
      "30/30 [==============================] - 0s 2ms/sample - loss: 0.0332\n",
      "Epoch 30/100\n",
      "30/30 [==============================] - 0s 2ms/sample - loss: 0.0330\n",
      "Epoch 31/100\n",
      "30/30 [==============================] - 0s 2ms/sample - loss: 0.0346\n",
      "Epoch 32/100\n",
      "30/30 [==============================] - 0s 2ms/sample - loss: 0.0335\n",
      "Epoch 33/100\n",
      "30/30 [==============================] - 0s 2ms/sample - loss: 0.0317\n",
      "Epoch 34/100\n",
      "30/30 [==============================] - 0s 2ms/sample - loss: 0.0350\n",
      "Epoch 35/100\n",
      "30/30 [==============================] - 0s 2ms/sample - loss: 0.0352\n",
      "Epoch 36/100\n",
      "30/30 [==============================] - 0s 2ms/sample - loss: 0.0341\n",
      "Epoch 37/100\n",
      "30/30 [==============================] - 0s 2ms/sample - loss: 0.0324\n",
      "Epoch 38/100\n",
      "30/30 [==============================] - 0s 2ms/sample - loss: 0.0333\n",
      "Epoch 39/100\n",
      "30/30 [==============================] - 0s 2ms/sample - loss: 0.0338\n",
      "Epoch 40/100\n",
      "30/30 [==============================] - 0s 2ms/sample - loss: 0.0349\n",
      "Epoch 41/100\n",
      "30/30 [==============================] - 0s 2ms/sample - loss: 0.0323\n",
      "Epoch 42/100\n",
      "30/30 [==============================] - 0s 2ms/sample - loss: 0.0327\n",
      "Epoch 43/100\n",
      "30/30 [==============================] - 0s 2ms/sample - loss: 0.0329\n",
      "Epoch 44/100\n",
      "30/30 [==============================] - 0s 2ms/sample - loss: 0.0328\n",
      "Epoch 45/100\n",
      "30/30 [==============================] - 0s 2ms/sample - loss: 0.0332\n",
      "Epoch 46/100\n",
      "30/30 [==============================] - 0s 2ms/sample - loss: 0.0326\n",
      "Epoch 47/100\n",
      "30/30 [==============================] - 0s 2ms/sample - loss: 0.0335\n",
      "Epoch 48/100\n",
      "30/30 [==============================] - 0s 2ms/sample - loss: 0.0331\n",
      "Epoch 49/100\n",
      "30/30 [==============================] - 0s 2ms/sample - loss: 0.0337\n",
      "Epoch 50/100\n",
      "30/30 [==============================] - 0s 2ms/sample - loss: 0.0335\n",
      "Epoch 51/100\n",
      "30/30 [==============================] - 0s 2ms/sample - loss: 0.0326\n",
      "Epoch 52/100\n",
      "30/30 [==============================] - 0s 2ms/sample - loss: 0.0333\n",
      "Epoch 53/100\n",
      "30/30 [==============================] - 0s 2ms/sample - loss: 0.0327\n",
      "Epoch 54/100\n",
      "30/30 [==============================] - 0s 2ms/sample - loss: 0.0314\n",
      "Epoch 55/100\n",
      "30/30 [==============================] - 0s 2ms/sample - loss: 0.0343\n",
      "Epoch 56/100\n",
      "30/30 [==============================] - 0s 2ms/sample - loss: 0.0339\n",
      "Epoch 57/100\n",
      "30/30 [==============================] - 0s 2ms/sample - loss: 0.0343\n",
      "Epoch 58/100\n",
      "30/30 [==============================] - 0s 2ms/sample - loss: 0.0317\n",
      "Epoch 59/100\n",
      "30/30 [==============================] - 0s 2ms/sample - loss: 0.0335\n",
      "Epoch 60/100\n",
      "30/30 [==============================] - 0s 2ms/sample - loss: 0.0334\n",
      "Epoch 61/100\n",
      "30/30 [==============================] - 0s 2ms/sample - loss: 0.0321\n",
      "Epoch 62/100\n",
      "30/30 [==============================] - 0s 2ms/sample - loss: 0.0330\n",
      "Epoch 63/100\n",
      "30/30 [==============================] - 0s 2ms/sample - loss: 0.0344\n",
      "Epoch 64/100\n",
      "30/30 [==============================] - 0s 2ms/sample - loss: 0.0336\n",
      "Epoch 65/100\n",
      "30/30 [==============================] - 0s 2ms/sample - loss: 0.0328\n",
      "Epoch 66/100\n",
      "30/30 [==============================] - 0s 2ms/sample - loss: 0.0331\n",
      "Epoch 67/100\n",
      "30/30 [==============================] - 0s 2ms/sample - loss: 0.0323\n",
      "Epoch 68/100\n",
      "30/30 [==============================] - 0s 2ms/sample - loss: 0.0320\n",
      "Epoch 69/100\n",
      "30/30 [==============================] - 0s 2ms/sample - loss: 0.0328\n",
      "Epoch 70/100\n",
      "30/30 [==============================] - 0s 2ms/sample - loss: 0.0342\n",
      "Epoch 71/100\n",
      "30/30 [==============================] - 0s 2ms/sample - loss: 0.0335\n",
      "Epoch 72/100\n",
      "30/30 [==============================] - 0s 2ms/sample - loss: 0.0333\n",
      "Epoch 73/100\n",
      "30/30 [==============================] - 0s 2ms/sample - loss: 0.0324\n",
      "Epoch 74/100\n",
      "30/30 [==============================] - 0s 2ms/sample - loss: 0.0320\n",
      "Epoch 75/100\n",
      "30/30 [==============================] - 0s 2ms/sample - loss: 0.0325\n",
      "Epoch 76/100\n",
      "30/30 [==============================] - 0s 2ms/sample - loss: 0.0327\n",
      "Epoch 77/100\n",
      "30/30 [==============================] - 0s 2ms/sample - loss: 0.0341\n",
      "Epoch 78/100\n",
      "30/30 [==============================] - 0s 2ms/sample - loss: 0.0316\n",
      "Epoch 79/100\n",
      "30/30 [==============================] - 0s 2ms/sample - loss: 0.0340\n",
      "Epoch 80/100\n",
      "30/30 [==============================] - 0s 2ms/sample - loss: 0.0319\n",
      "Epoch 81/100\n",
      "30/30 [==============================] - 0s 2ms/sample - loss: 0.0324\n",
      "Epoch 82/100\n",
      "30/30 [==============================] - 0s 2ms/sample - loss: 0.0333\n",
      "Epoch 83/100\n",
      "30/30 [==============================] - 0s 2ms/sample - loss: 0.0331\n",
      "Epoch 84/100\n",
      "30/30 [==============================] - 0s 2ms/sample - loss: 0.0329\n",
      "Epoch 85/100\n",
      "30/30 [==============================] - 0s 2ms/sample - loss: 0.0343\n",
      "Epoch 86/100\n",
      "30/30 [==============================] - 0s 2ms/sample - loss: 0.0330\n",
      "Epoch 87/100\n",
      "30/30 [==============================] - 0s 2ms/sample - loss: 0.0328\n",
      "Epoch 88/100\n",
      "30/30 [==============================] - 0s 2ms/sample - loss: 0.0327\n",
      "Epoch 89/100\n",
      "30/30 [==============================] - 0s 2ms/sample - loss: 0.0331\n",
      "Epoch 90/100\n",
      "30/30 [==============================] - 0s 2ms/sample - loss: 0.0321\n",
      "Epoch 91/100\n",
      "30/30 [==============================] - 0s 2ms/sample - loss: 0.0343\n",
      "Epoch 92/100\n",
      "30/30 [==============================] - 0s 2ms/sample - loss: 0.0313\n",
      "Epoch 93/100\n",
      "30/30 [==============================] - 0s 2ms/sample - loss: 0.0330\n",
      "Epoch 94/100\n",
      "30/30 [==============================] - 0s 2ms/sample - loss: 0.0323\n",
      "Epoch 95/100\n",
      "30/30 [==============================] - 0s 2ms/sample - loss: 0.0317\n",
      "Epoch 96/100\n",
      "30/30 [==============================] - 0s 2ms/sample - loss: 0.0315\n",
      "Epoch 97/100\n",
      "30/30 [==============================] - 0s 2ms/sample - loss: 0.0329\n",
      "Epoch 98/100\n",
      "30/30 [==============================] - 0s 2ms/sample - loss: 0.0326\n",
      "Epoch 99/100\n",
      "30/30 [==============================] - 0s 2ms/sample - loss: 0.0332\n",
      "Epoch 100/100\n",
      "30/30 [==============================] - 0s 2ms/sample - loss: 0.0317\n"
     ]
    },
    {
     "data": {
      "text/plain": [
       "<tensorflow.python.keras.callbacks.History at 0x7fd115bd8e10>"
      ]
     },
     "execution_count": 94,
     "metadata": {},
     "output_type": "execute_result"
    }
   ],
   "source": [
    "# Fitting the RNN to the Training set\n",
    "regressor.fit(X_train,y_train,epochs=100,batch_size=5)"
   ]
  },
  {
   "cell_type": "markdown",
   "metadata": {},
   "source": [
    "### Making the predictions and visualising the results"
   ]
  },
  {
   "cell_type": "code",
   "execution_count": 95,
   "metadata": {},
   "outputs": [],
   "source": [
    "dataset_total = pd.concat((pd.Series(training_set_scaled.flatten()),\n",
    "                               pd.Series(testing_set_scaled.flatten())),axis=0)            \n",
    "inputs=dataset_total[len(dataset_total)-len(testing_set_scaled)-5:].values"
   ]
  },
  {
   "cell_type": "code",
   "execution_count": 96,
   "metadata": {},
   "outputs": [
    {
     "data": {
      "text/plain": [
       "(20,)"
      ]
     },
     "execution_count": 96,
     "metadata": {},
     "output_type": "execute_result"
    }
   ],
   "source": [
    "inputs.shape"
   ]
  },
  {
   "cell_type": "code",
   "execution_count": 97,
   "metadata": {},
   "outputs": [],
   "source": [
    "inputs=inputs.reshape(-1,1)"
   ]
  },
  {
   "cell_type": "code",
   "execution_count": 98,
   "metadata": {},
   "outputs": [
    {
     "data": {
      "text/plain": [
       "(20, 1)"
      ]
     },
     "execution_count": 98,
     "metadata": {},
     "output_type": "execute_result"
    }
   ],
   "source": [
    "inputs.shape"
   ]
  },
  {
   "cell_type": "code",
   "execution_count": 99,
   "metadata": {},
   "outputs": [
    {
     "data": {
      "text/plain": [
       "(15, 5, 1)"
      ]
     },
     "execution_count": 99,
     "metadata": {},
     "output_type": "execute_result"
    }
   ],
   "source": [
    "X_test=[]\n",
    "\n",
    "#We take the 5 previous days also so total is 20\n",
    "for i in range(5, 20):\n",
    "    X_test.append(inputs[i-5:i,0])\n",
    "X_test = np.array(X_test)\n",
    "X_test=np.reshape(X_test, (X_test.shape[0],X_test.shape[1],1))\n",
    "X_test.shape"
   ]
  },
  {
   "cell_type": "code",
   "execution_count": 100,
   "metadata": {},
   "outputs": [],
   "source": [
    "#Prediction\n",
    "predicted_covid_cases = regressor.predict(X_test)\n",
    "#Get original scale of the scaled values\n",
    "predicted_covid_cases = sc.inverse_transform(predicted_covid_cases)\n"
   ]
  },
  {
   "cell_type": "code",
   "execution_count": 106,
   "metadata": {},
   "outputs": [
    {
     "data": {
      "image/png": "[encoded data removed]",
      "text/plain": [
       "<Figure size 1080x1080 with 1 Axes>"
      ]
     },
     "metadata": {
      "needs_background": "light"
     },
     "output_type": "display_data"
    }
   ],
   "source": [
    "#visualising the results\n",
    "plt.plot(testing_set.index,testing_set.values, color = 'red',label='Real Covid Cases')\n",
    "plt.plot(testing_set.index,predicted_covid_cases, color = 'blue',label='Predicted Covid Cases')\n",
    "\n",
    "plt.title('Corona virus cases Prediction')\n",
    "plt.xlabel('Time')\n",
    "plt.xticks(rotation=45)\n",
    "plt.ylabel('# of cases')\n",
    "plt.legend()\n",
    "plt.rcParams[\"figure.figsize\"] = (15,15)\n",
    "plt.show()"
   ]
  },
  {
   "cell_type": "markdown",
   "metadata": {},
   "source": [
    "As expected, the prediction of our model is not realistic, because we have been using the last five days to predict the number of cases, which is not how the number of cases is actually predicted. Nonetheless, the main goal is to provide insight into how to use LSTM for time series forecasting."
   ]
  },
  {
   "cell_type": "code",
   "execution_count": 103,
   "metadata": {},
   "outputs": [
    {
     "name": "stdout",
     "output_type": "stream",
     "text": [
      "1583.2218885206055\n"
     ]
    }
   ],
   "source": [
    "# CALCULATE RMSE (Root mean squared error)\n",
    "import math\n",
    "from sklearn.metrics import mean_squared_error\n",
    "rmse = math.sqrt(mean_squared_error(testing_set.values, predicted_covid_cases))\n",
    "print(rmse)"
   ]
  },
  {
   "cell_type": "markdown",
   "metadata": {},
   "source": [
    "The problem of predicting Covid-19 cases every day is a complicated one. Many factors play a major role in the spread of the virus and the number of people infected. Hope everything is going to be back to normal soon."
   ]
  },
  {
   "cell_type": "markdown",
   "metadata": {},
   "source": [
    "### References\n",
    "[1] Thanks to Venelin Valkov for his amazing tutorial in https://www.curiousily.com/posts/time-series-forecasting-with-lstm-for-daily-coronavirus-cases/ "
   ]
  },
  {
   "cell_type": "code",
   "execution_count": null,
   "metadata": {},
   "outputs": [],
   "source": []
  }
 ],
 "metadata": {
  "kernelspec": {
   "display_name": "Python 3",
   "language": "python",
   "name": "python3"
  },
  "language_info": {
   "codemirror_mode": {
    "name": "ipython",
    "version": 3
   },
   "file_extension": ".py",
   "mimetype": "text/x-python",
   "name": "python",
   "nbconvert_exporter": "python",
   "pygments_lexer": "ipython3",
   "version": "3.7.3"
  }
 },
 "nbformat": 4,
 "nbformat_minor": 2
}
