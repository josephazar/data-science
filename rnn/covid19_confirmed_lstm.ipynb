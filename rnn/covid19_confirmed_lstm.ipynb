{
 "cells": [
  {
   "cell_type": "markdown",
   "metadata": {},
   "source": [
    "# Daily Coronavirus Cases Forecasting Using LSTM With Keras"
   ]
  },
  {
   "cell_type": "markdown",
   "metadata": {},
   "source": [
    "This notebook is a demonstration of how you would use Recurrent Neural Networks for some real-world time series data with Keras."
   ]
  },
  {
   "cell_type": "markdown",
   "metadata": {},
   "source": [
    "Please refer to the below repository to download the dataset:\n",
    "\n",
    "This is the data repository for the 2019 Novel Coronavirus Visual Dashboard operated by the Johns Hopkins University Center for Systems Science and Engineering (JHU CSSE). Also, Supported by ESRI Living Atlas Team and the Johns Hopkins University Applied Physics Lab (JHU APL).\n",
    "https://github.com/CSSEGISandData/COVID-19\n",
    "\n",
    "In the following, we will be working on the confirmed cases and not the recovered/death cases."
   ]
  },
  {
   "cell_type": "markdown",
   "metadata": {},
   "source": [
    "### Importing the libraries"
   ]
  },
  {
   "cell_type": "code",
   "execution_count": 2,
   "metadata": {},
   "outputs": [],
   "source": [
    "import numpy as np\n",
    "import matplotlib.pyplot as plt\n",
    "import pandas as pd\n",
    "\n",
    "from tensorflow.keras.models import Sequential\n",
    "from tensorflow.keras.layers import Dense\n",
    "from tensorflow.keras.layers import LSTM\n",
    "from tensorflow.keras.layers import Dropout"
   ]
  },
  {
   "cell_type": "markdown",
   "metadata": {},
   "source": [
    "### Reading and processing the dataset\n",
    "#### (Use the global dataset, not the one related to US)"
   ]
  },
  {
   "cell_type": "code",
   "execution_count": 3,
   "metadata": {},
   "outputs": [],
   "source": [
    "#Make sure to change the path\n",
    "dataset = pd.read_csv('../../data/time_series_19-covid-Confirmed.csv')"
   ]
  },
  {
   "cell_type": "code",
   "execution_count": 4,
   "metadata": {},
   "outputs": [
    {
     "data": {
      "text/plain": [
       "Index(['Province/State', 'Country/Region', 'Lat', 'Long', '1/22/20', '1/23/20',\n",
       "       '1/24/20', '1/25/20', '1/26/20', '1/27/20', '1/28/20', '1/29/20',\n",
       "       '1/30/20', '1/31/20', '2/1/20', '2/2/20', '2/3/20', '2/4/20', '2/5/20',\n",
       "       '2/6/20', '2/7/20', '2/8/20', '2/9/20', '2/10/20', '2/11/20', '2/12/20',\n",
       "       '2/13/20', '2/14/20', '2/15/20', '2/16/20', '2/17/20', '2/18/20',\n",
       "       '2/19/20', '2/20/20', '2/21/20', '2/22/20', '2/23/20', '2/24/20',\n",
       "       '2/25/20', '2/26/20', '2/27/20', '2/28/20', '2/29/20', '3/1/20',\n",
       "       '3/2/20', '3/3/20', '3/4/20', '3/5/20', '3/6/20', '3/7/20', '3/8/20',\n",
       "       '3/9/20', '3/10/20', '3/11/20', '3/12/20', '3/13/20', '3/14/20',\n",
       "       '3/15/20', '3/16/20', '3/17/20', '3/18/20', '3/19/20', '3/20/20',\n",
       "       '3/21/20', '3/22/20', '3/23/20', '3/24/20', '3/25/20', '3/26/20',\n",
       "       '3/27/20', '3/28/20', '3/29/20', '3/30/20', '3/31/20', '4/1/20',\n",
       "       '4/2/20', '4/3/20', '4/4/20', '4/5/20', '4/6/20', '4/7/20', '4/8/20',\n",
       "       '4/9/20', '4/10/20', '4/11/20', '4/12/20', '4/13/20', '4/14/20',\n",
       "       '4/15/20', '4/16/20'],\n",
       "      dtype='object')"
      ]
     },
     "execution_count": 4,
     "metadata": {},
     "output_type": "execute_result"
    }
   ],
   "source": [
    "dataset.columns"
   ]
  },
  {
   "cell_type": "code",
   "execution_count": 5,
   "metadata": {},
   "outputs": [
    {
     "name": "stdout",
     "output_type": "stream",
     "text": [
      "(264, 90)\n"
     ]
    }
   ],
   "source": [
    "print(dataset.shape)"
   ]
  },
  {
   "cell_type": "markdown",
   "metadata": {},
   "source": [
    "It can be seen that when I worked on this notebook, the dataset includes cases from 22/1/20 to 11/3/20. You may have more data since the dataset is updated regularly.\n",
    "\n",
    "We are not interested in the first four columns."
   ]
  },
  {
   "cell_type": "code",
   "execution_count": 6,
   "metadata": {},
   "outputs": [],
   "source": [
    "dataset=dataset.iloc[:,4:]"
   ]
  },
  {
   "cell_type": "code",
   "execution_count": 7,
   "metadata": {},
   "outputs": [
    {
     "data": {
      "text/plain": [
       "Index(['1/22/20', '1/23/20', '1/24/20', '1/25/20', '1/26/20', '1/27/20',\n",
       "       '1/28/20', '1/29/20', '1/30/20', '1/31/20', '2/1/20', '2/2/20',\n",
       "       '2/3/20', '2/4/20', '2/5/20', '2/6/20', '2/7/20', '2/8/20', '2/9/20',\n",
       "       '2/10/20', '2/11/20', '2/12/20', '2/13/20', '2/14/20', '2/15/20',\n",
       "       '2/16/20', '2/17/20', '2/18/20', '2/19/20', '2/20/20', '2/21/20',\n",
       "       '2/22/20', '2/23/20', '2/24/20', '2/25/20', '2/26/20', '2/27/20',\n",
       "       '2/28/20', '2/29/20', '3/1/20', '3/2/20', '3/3/20', '3/4/20', '3/5/20',\n",
       "       '3/6/20', '3/7/20', '3/8/20', '3/9/20', '3/10/20', '3/11/20', '3/12/20',\n",
       "       '3/13/20', '3/14/20', '3/15/20', '3/16/20', '3/17/20', '3/18/20',\n",
       "       '3/19/20', '3/20/20', '3/21/20', '3/22/20', '3/23/20', '3/24/20',\n",
       "       '3/25/20', '3/26/20', '3/27/20', '3/28/20', '3/29/20', '3/30/20',\n",
       "       '3/31/20', '4/1/20', '4/2/20', '4/3/20', '4/4/20', '4/5/20', '4/6/20',\n",
       "       '4/7/20', '4/8/20', '4/9/20', '4/10/20', '4/11/20', '4/12/20',\n",
       "       '4/13/20', '4/14/20', '4/15/20', '4/16/20'],\n",
       "      dtype='object')"
      ]
     },
     "execution_count": 7,
     "metadata": {},
     "output_type": "execute_result"
    }
   ],
   "source": [
    "dataset.columns"
   ]
  },
  {
   "cell_type": "code",
   "execution_count": 9,
   "metadata": {},
   "outputs": [
    {
     "data": {
      "text/html": [
       "<div>\n",
       "<style scoped>\n",
       "    .dataframe tbody tr th:only-of-type {\n",
       "        vertical-align: middle;\n",
       "    }\n",
       "\n",
       "    .dataframe tbody tr th {\n",
       "        vertical-align: top;\n",
       "    }\n",
       "\n",
       "    .dataframe thead th {\n",
       "        text-align: right;\n",
       "    }\n",
       "</style>\n",
       "<table border=\"1\" class=\"dataframe\">\n",
       "  <thead>\n",
       "    <tr style=\"text-align: right;\">\n",
       "      <th></th>\n",
       "      <th>1/22/20</th>\n",
       "      <th>1/23/20</th>\n",
       "      <th>1/24/20</th>\n",
       "      <th>1/25/20</th>\n",
       "      <th>1/26/20</th>\n",
       "      <th>1/27/20</th>\n",
       "      <th>1/28/20</th>\n",
       "      <th>1/29/20</th>\n",
       "      <th>1/30/20</th>\n",
       "      <th>1/31/20</th>\n",
       "      <th>...</th>\n",
       "      <th>4/7/20</th>\n",
       "      <th>4/8/20</th>\n",
       "      <th>4/9/20</th>\n",
       "      <th>4/10/20</th>\n",
       "      <th>4/11/20</th>\n",
       "      <th>4/12/20</th>\n",
       "      <th>4/13/20</th>\n",
       "      <th>4/14/20</th>\n",
       "      <th>4/15/20</th>\n",
       "      <th>4/16/20</th>\n",
       "    </tr>\n",
       "  </thead>\n",
       "  <tbody>\n",
       "    <tr>\n",
       "      <th>0</th>\n",
       "      <td>0</td>\n",
       "      <td>0</td>\n",
       "      <td>0</td>\n",
       "      <td>0</td>\n",
       "      <td>0</td>\n",
       "      <td>0</td>\n",
       "      <td>0</td>\n",
       "      <td>0</td>\n",
       "      <td>0</td>\n",
       "      <td>0</td>\n",
       "      <td>...</td>\n",
       "      <td>423</td>\n",
       "      <td>444</td>\n",
       "      <td>484</td>\n",
       "      <td>521</td>\n",
       "      <td>555</td>\n",
       "      <td>607</td>\n",
       "      <td>665</td>\n",
       "      <td>714</td>\n",
       "      <td>784</td>\n",
       "      <td>840</td>\n",
       "    </tr>\n",
       "    <tr>\n",
       "      <th>1</th>\n",
       "      <td>0</td>\n",
       "      <td>0</td>\n",
       "      <td>0</td>\n",
       "      <td>0</td>\n",
       "      <td>0</td>\n",
       "      <td>0</td>\n",
       "      <td>0</td>\n",
       "      <td>0</td>\n",
       "      <td>0</td>\n",
       "      <td>0</td>\n",
       "      <td>...</td>\n",
       "      <td>383</td>\n",
       "      <td>400</td>\n",
       "      <td>409</td>\n",
       "      <td>416</td>\n",
       "      <td>433</td>\n",
       "      <td>446</td>\n",
       "      <td>467</td>\n",
       "      <td>475</td>\n",
       "      <td>494</td>\n",
       "      <td>518</td>\n",
       "    </tr>\n",
       "    <tr>\n",
       "      <th>2</th>\n",
       "      <td>0</td>\n",
       "      <td>0</td>\n",
       "      <td>0</td>\n",
       "      <td>0</td>\n",
       "      <td>0</td>\n",
       "      <td>0</td>\n",
       "      <td>0</td>\n",
       "      <td>0</td>\n",
       "      <td>0</td>\n",
       "      <td>0</td>\n",
       "      <td>...</td>\n",
       "      <td>1468</td>\n",
       "      <td>1572</td>\n",
       "      <td>1666</td>\n",
       "      <td>1761</td>\n",
       "      <td>1825</td>\n",
       "      <td>1914</td>\n",
       "      <td>1983</td>\n",
       "      <td>2070</td>\n",
       "      <td>2160</td>\n",
       "      <td>2268</td>\n",
       "    </tr>\n",
       "    <tr>\n",
       "      <th>3</th>\n",
       "      <td>0</td>\n",
       "      <td>0</td>\n",
       "      <td>0</td>\n",
       "      <td>0</td>\n",
       "      <td>0</td>\n",
       "      <td>0</td>\n",
       "      <td>0</td>\n",
       "      <td>0</td>\n",
       "      <td>0</td>\n",
       "      <td>0</td>\n",
       "      <td>...</td>\n",
       "      <td>545</td>\n",
       "      <td>564</td>\n",
       "      <td>583</td>\n",
       "      <td>601</td>\n",
       "      <td>601</td>\n",
       "      <td>638</td>\n",
       "      <td>646</td>\n",
       "      <td>659</td>\n",
       "      <td>673</td>\n",
       "      <td>673</td>\n",
       "    </tr>\n",
       "    <tr>\n",
       "      <th>4</th>\n",
       "      <td>0</td>\n",
       "      <td>0</td>\n",
       "      <td>0</td>\n",
       "      <td>0</td>\n",
       "      <td>0</td>\n",
       "      <td>0</td>\n",
       "      <td>0</td>\n",
       "      <td>0</td>\n",
       "      <td>0</td>\n",
       "      <td>0</td>\n",
       "      <td>...</td>\n",
       "      <td>17</td>\n",
       "      <td>19</td>\n",
       "      <td>19</td>\n",
       "      <td>19</td>\n",
       "      <td>19</td>\n",
       "      <td>19</td>\n",
       "      <td>19</td>\n",
       "      <td>19</td>\n",
       "      <td>19</td>\n",
       "      <td>19</td>\n",
       "    </tr>\n",
       "    <tr>\n",
       "      <th>5</th>\n",
       "      <td>0</td>\n",
       "      <td>0</td>\n",
       "      <td>0</td>\n",
       "      <td>0</td>\n",
       "      <td>0</td>\n",
       "      <td>0</td>\n",
       "      <td>0</td>\n",
       "      <td>0</td>\n",
       "      <td>0</td>\n",
       "      <td>0</td>\n",
       "      <td>...</td>\n",
       "      <td>19</td>\n",
       "      <td>19</td>\n",
       "      <td>19</td>\n",
       "      <td>19</td>\n",
       "      <td>21</td>\n",
       "      <td>21</td>\n",
       "      <td>23</td>\n",
       "      <td>23</td>\n",
       "      <td>23</td>\n",
       "      <td>23</td>\n",
       "    </tr>\n",
       "    <tr>\n",
       "      <th>6</th>\n",
       "      <td>0</td>\n",
       "      <td>0</td>\n",
       "      <td>0</td>\n",
       "      <td>0</td>\n",
       "      <td>0</td>\n",
       "      <td>0</td>\n",
       "      <td>0</td>\n",
       "      <td>0</td>\n",
       "      <td>0</td>\n",
       "      <td>0</td>\n",
       "      <td>...</td>\n",
       "      <td>1628</td>\n",
       "      <td>1715</td>\n",
       "      <td>1795</td>\n",
       "      <td>1975</td>\n",
       "      <td>1975</td>\n",
       "      <td>2142</td>\n",
       "      <td>2208</td>\n",
       "      <td>2277</td>\n",
       "      <td>2443</td>\n",
       "      <td>2571</td>\n",
       "    </tr>\n",
       "    <tr>\n",
       "      <th>7</th>\n",
       "      <td>0</td>\n",
       "      <td>0</td>\n",
       "      <td>0</td>\n",
       "      <td>0</td>\n",
       "      <td>0</td>\n",
       "      <td>0</td>\n",
       "      <td>0</td>\n",
       "      <td>0</td>\n",
       "      <td>0</td>\n",
       "      <td>0</td>\n",
       "      <td>...</td>\n",
       "      <td>853</td>\n",
       "      <td>881</td>\n",
       "      <td>921</td>\n",
       "      <td>937</td>\n",
       "      <td>967</td>\n",
       "      <td>1013</td>\n",
       "      <td>1039</td>\n",
       "      <td>1067</td>\n",
       "      <td>1111</td>\n",
       "      <td>1159</td>\n",
       "    </tr>\n",
       "    <tr>\n",
       "      <th>8</th>\n",
       "      <td>0</td>\n",
       "      <td>0</td>\n",
       "      <td>0</td>\n",
       "      <td>0</td>\n",
       "      <td>0</td>\n",
       "      <td>0</td>\n",
       "      <td>0</td>\n",
       "      <td>0</td>\n",
       "      <td>0</td>\n",
       "      <td>0</td>\n",
       "      <td>...</td>\n",
       "      <td>96</td>\n",
       "      <td>99</td>\n",
       "      <td>100</td>\n",
       "      <td>103</td>\n",
       "      <td>103</td>\n",
       "      <td>103</td>\n",
       "      <td>102</td>\n",
       "      <td>103</td>\n",
       "      <td>103</td>\n",
       "      <td>103</td>\n",
       "    </tr>\n",
       "    <tr>\n",
       "      <th>9</th>\n",
       "      <td>0</td>\n",
       "      <td>0</td>\n",
       "      <td>0</td>\n",
       "      <td>0</td>\n",
       "      <td>3</td>\n",
       "      <td>4</td>\n",
       "      <td>4</td>\n",
       "      <td>4</td>\n",
       "      <td>4</td>\n",
       "      <td>4</td>\n",
       "      <td>...</td>\n",
       "      <td>2686</td>\n",
       "      <td>2734</td>\n",
       "      <td>2773</td>\n",
       "      <td>2822</td>\n",
       "      <td>2857</td>\n",
       "      <td>2857</td>\n",
       "      <td>2863</td>\n",
       "      <td>2870</td>\n",
       "      <td>2886</td>\n",
       "      <td>2897</td>\n",
       "    </tr>\n",
       "  </tbody>\n",
       "</table>\n",
       "<p>10 rows × 86 columns</p>\n",
       "</div>"
      ],
      "text/plain": [
       "   1/22/20  1/23/20  1/24/20  1/25/20  1/26/20  1/27/20  1/28/20  1/29/20  \\\n",
       "0        0        0        0        0        0        0        0        0   \n",
       "1        0        0        0        0        0        0        0        0   \n",
       "2        0        0        0        0        0        0        0        0   \n",
       "3        0        0        0        0        0        0        0        0   \n",
       "4        0        0        0        0        0        0        0        0   \n",
       "5        0        0        0        0        0        0        0        0   \n",
       "6        0        0        0        0        0        0        0        0   \n",
       "7        0        0        0        0        0        0        0        0   \n",
       "8        0        0        0        0        0        0        0        0   \n",
       "9        0        0        0        0        3        4        4        4   \n",
       "\n",
       "   1/30/20  1/31/20  ...  4/7/20  4/8/20  4/9/20  4/10/20  4/11/20  4/12/20  \\\n",
       "0        0        0  ...     423     444     484      521      555      607   \n",
       "1        0        0  ...     383     400     409      416      433      446   \n",
       "2        0        0  ...    1468    1572    1666     1761     1825     1914   \n",
       "3        0        0  ...     545     564     583      601      601      638   \n",
       "4        0        0  ...      17      19      19       19       19       19   \n",
       "5        0        0  ...      19      19      19       19       21       21   \n",
       "6        0        0  ...    1628    1715    1795     1975     1975     2142   \n",
       "7        0        0  ...     853     881     921      937      967     1013   \n",
       "8        0        0  ...      96      99     100      103      103      103   \n",
       "9        4        4  ...    2686    2734    2773     2822     2857     2857   \n",
       "\n",
       "   4/13/20  4/14/20  4/15/20  4/16/20  \n",
       "0      665      714      784      840  \n",
       "1      467      475      494      518  \n",
       "2     1983     2070     2160     2268  \n",
       "3      646      659      673      673  \n",
       "4       19       19       19       19  \n",
       "5       23       23       23       23  \n",
       "6     2208     2277     2443     2571  \n",
       "7     1039     1067     1111     1159  \n",
       "8      102      103      103      103  \n",
       "9     2863     2870     2886     2897  \n",
       "\n",
       "[10 rows x 86 columns]"
      ]
     },
     "execution_count": 9,
     "metadata": {},
     "output_type": "execute_result"
    }
   ],
   "source": [
    "dataset.head(10)"
   ]
  },
  {
   "cell_type": "markdown",
   "metadata": {},
   "source": [
    "By summing up all rows, we get the cumulative daily cases:"
   ]
  },
  {
   "cell_type": "code",
   "execution_count": 11,
   "metadata": {},
   "outputs": [
    {
     "data": {
      "text/plain": [
       "2020-01-22      555\n",
       "2020-01-23      654\n",
       "2020-01-24      941\n",
       "2020-01-25     1434\n",
       "2020-01-26     2118\n",
       "2020-01-27     2927\n",
       "2020-01-28     5578\n",
       "2020-01-29     6166\n",
       "2020-01-30     8234\n",
       "2020-01-31     9927\n",
       "2020-02-01    12038\n",
       "2020-02-02    16787\n",
       "2020-02-03    19881\n",
       "2020-02-04    23892\n",
       "2020-02-05    27635\n",
       "2020-02-06    30794\n",
       "2020-02-07    34391\n",
       "2020-02-08    37120\n",
       "2020-02-09    40150\n",
       "2020-02-10    42762\n",
       "dtype: int64"
      ]
     },
     "execution_count": 11,
     "metadata": {},
     "output_type": "execute_result"
    }
   ],
   "source": [
    "cum_daily_cases = dataset.sum(axis=0)\n",
    "cum_daily_cases.index = pd.to_datetime(cum_daily_cases.index)\n",
    "cum_daily_cases.head(20)"
   ]
  },
  {
   "cell_type": "code",
   "execution_count": 13,
   "metadata": {},
   "outputs": [
    {
     "data": {
      "text/plain": [
       "Text(0.5, 1.0, 'Cumulative daily cases')"
      ]
     },
     "execution_count": 13,
     "metadata": {},
     "output_type": "execute_result"
    },
    {
     "data": {
      "image/png": "[encoded data removed]",
      "text/plain": [
       "<Figure size 1440x1440 with 1 Axes>"
      ]
     },
     "metadata": {
      "needs_background": "light"
     },
     "output_type": "display_data"
    }
   ],
   "source": [
    "plt.plot(cum_daily_cases)\n",
    "plt.rcParams[\"figure.figsize\"] = (25,25)\n",
    "plt.title(\"Cumulative daily cases\")"
   ]
  },
  {
   "cell_type": "markdown",
   "metadata": {},
   "source": [
    "We' ll reverse the accumulation by subtracting the present value from the previous one."
   ]
  },
  {
   "cell_type": "code",
   "execution_count": 14,
   "metadata": {},
   "outputs": [
    {
     "data": {
      "text/plain": [
       "2020-01-22     555\n",
       "2020-01-23      99\n",
       "2020-01-24     287\n",
       "2020-01-25     493\n",
       "2020-01-26     684\n",
       "2020-01-27     809\n",
       "2020-01-28    2651\n",
       "2020-01-29     588\n",
       "2020-01-30    2068\n",
       "2020-01-31    1693\n",
       "2020-02-01    2111\n",
       "2020-02-02    4749\n",
       "2020-02-03    3094\n",
       "2020-02-04    4011\n",
       "2020-02-05    3743\n",
       "2020-02-06    3159\n",
       "2020-02-07    3597\n",
       "2020-02-08    2729\n",
       "2020-02-09    3030\n",
       "2020-02-10    2612\n",
       "dtype: int64"
      ]
     },
     "execution_count": 14,
     "metadata": {},
     "output_type": "execute_result"
    }
   ],
   "source": [
    "daily_cases = cum_daily_cases.diff().fillna(cum_daily_cases[0]).astype(np.int64)\n",
    "daily_cases.head(20)"
   ]
  },
  {
   "cell_type": "code",
   "execution_count": 15,
   "metadata": {},
   "outputs": [
    {
     "data": {
      "text/plain": [
       "Text(0.5, 1.0, 'daily cases')"
      ]
     },
     "execution_count": 15,
     "metadata": {},
     "output_type": "execute_result"
    },
    {
     "data": {
      "image/png": "[encoded data removed]",
      "text/plain": [
       "<Figure size 1800x1800 with 1 Axes>"
      ]
     },
     "metadata": {
      "needs_background": "light"
     },
     "output_type": "display_data"
    }
   ],
   "source": [
    "plt.plot(daily_cases)\n",
    "plt.title(\"daily cases\")"
   ]
  },
  {
   "cell_type": "markdown",
   "metadata": {},
   "source": [
    "According to [1], The huge spike (in the middle) is mostly due to a change of criteria for testing patients in China. "
   ]
  },
  {
   "cell_type": "code",
   "execution_count": 17,
   "metadata": {},
   "outputs": [
    {
     "data": {
      "text/plain": [
       "(86,)"
      ]
     },
     "execution_count": 17,
     "metadata": {},
     "output_type": "execute_result"
    }
   ],
   "source": [
    "#amount of data\n",
    "daily_cases.shape"
   ]
  },
  {
   "cell_type": "markdown",
   "metadata": {},
   "source": [
    "We will assign the first 81 days for training and use the remainder for testing:"
   ]
  },
  {
   "cell_type": "markdown",
   "metadata": {},
   "source": [
    "### Splitting the data"
   ]
  },
  {
   "cell_type": "code",
   "execution_count": 18,
   "metadata": {},
   "outputs": [],
   "source": [
    "training_set = daily_cases[:-5]\n",
    "testing_set = daily_cases[-5:]"
   ]
  },
  {
   "cell_type": "code",
   "execution_count": 19,
   "metadata": {},
   "outputs": [
    {
     "data": {
      "text/plain": [
       "(81,)"
      ]
     },
     "execution_count": 19,
     "metadata": {},
     "output_type": "execute_result"
    }
   ],
   "source": [
    "training_set.shape"
   ]
  },
  {
   "cell_type": "code",
   "execution_count": 20,
   "metadata": {},
   "outputs": [
    {
     "data": {
      "text/plain": [
       "(5,)"
      ]
     },
     "execution_count": 20,
     "metadata": {},
     "output_type": "execute_result"
    }
   ],
   "source": [
    "testing_set.shape"
   ]
  },
  {
   "cell_type": "markdown",
   "metadata": {},
   "source": [
    "### Feature Scaling\n"
   ]
  },
  {
   "cell_type": "code",
   "execution_count": 21,
   "metadata": {},
   "outputs": [],
   "source": [
    "from sklearn.preprocessing import MinMaxScaler\n",
    "sc=MinMaxScaler(feature_range=(0,1))\n",
    "\n",
    "training_set_scaled=sc.fit_transform(np.expand_dims(training_set, axis=1))\n",
    "testing_set_scaled=sc.transform(np.expand_dims(testing_set, axis=1))"
   ]
  },
  {
   "cell_type": "code",
   "execution_count": 22,
   "metadata": {},
   "outputs": [
    {
     "name": "stdout",
     "output_type": "stream",
     "text": [
      "[[0.00487742]\n",
      " [0.        ]\n",
      " [0.00201087]\n",
      " [0.00421426]\n",
      " [0.00625722]\n",
      " [0.00759423]\n",
      " [0.02729645]\n",
      " [0.00523039]\n",
      " [0.02106063]\n",
      " [0.01704959]\n",
      " [0.02152056]\n",
      " [0.04973688]\n",
      " [0.03203483]\n",
      " [0.04184315]\n",
      " [0.0389766 ]\n",
      " [0.03273007]\n",
      " [0.03741497]\n",
      " [0.02813075]\n",
      " [0.03135028]\n",
      " [0.02687931]\n",
      " [0.02076113]\n",
      " [0.00342275]\n",
      " [0.16095495]\n",
      " [0.06864758]\n",
      " [0.02188423]\n",
      " [0.02240833]\n",
      " [0.02069696]\n",
      " [0.01902837]\n",
      " [0.00432123]\n",
      " [0.00490951]\n",
      " [0.00559406]\n",
      " [0.01769135]\n",
      " [0.00306978]\n",
      " [0.00539084]\n",
      " [0.00797929]\n",
      " [0.00944466]\n",
      " [0.01346639]\n",
      " [0.01355196]\n",
      " [0.01925298]\n",
      " [0.0241625 ]\n",
      " [0.01965944]\n",
      " [0.02604501]\n",
      " [0.0233282 ]\n",
      " [0.0285265 ]\n",
      " [0.04081633]\n",
      " [0.04221752]\n",
      " [0.0414474 ]\n",
      " [0.0392547 ]\n",
      " [0.05274248]\n",
      " [0.07654131]\n",
      " [0.02543533]\n",
      " [0.1792025 ]\n",
      " [0.11548582]\n",
      " [0.12037394]\n",
      " [0.14997005]\n",
      " [0.16503016]\n",
      " [0.18846532]\n",
      " [0.29574723]\n",
      " [0.31595217]\n",
      " [0.3444145 ]\n",
      " [0.34598682]\n",
      " [0.4404548 ]\n",
      " [0.42475292]\n",
      " [0.52959612]\n",
      " [0.66143627]\n",
      " [0.6802828 ]\n",
      " [0.71987978]\n",
      " [0.63479228]\n",
      " [0.66476276]\n",
      " [0.80219698]\n",
      " [0.8024109 ]\n",
      " [0.86383862]\n",
      " [0.88084542]\n",
      " [0.85615882]\n",
      " [0.78717965]\n",
      " [0.76614042]\n",
      " [0.78738288]\n",
      " [0.90819535]\n",
      " [0.89455782]\n",
      " [1.        ]\n",
      " [0.83456339]]\n"
     ]
    }
   ],
   "source": [
    "print(training_set_scaled)"
   ]
  },
  {
   "cell_type": "code",
   "execution_count": 23,
   "metadata": {},
   "outputs": [
    {
     "name": "stdout",
     "output_type": "stream",
     "text": [
      "[[1.05861464]\n",
      " [0.74891969]\n",
      " [0.76214008]\n",
      " [0.85316391]\n",
      " [1.032099  ]]\n"
     ]
    }
   ],
   "source": [
    "print(testing_set_scaled)"
   ]
  },
  {
   "cell_type": "markdown",
   "metadata": {},
   "source": [
    "Creating a data structure with 5 timesteps and 1 output at each time t the RNN will look at the 5 timesteps before time t (past information) RNN will try to learn and understand correlation in the past information"
   ]
  },
  {
   "cell_type": "code",
   "execution_count": 24,
   "metadata": {},
   "outputs": [],
   "source": [
    "#Input of the NN, will contain the 5 previous days before a current day\n",
    "X_train=[]\n",
    "# Will contain the number of cases the next day\n",
    "y_train=[]"
   ]
  },
  {
   "cell_type": "code",
   "execution_count": 25,
   "metadata": {},
   "outputs": [],
   "source": [
    "for i in range(5, 81):\n",
    "    X_train.append(training_set_scaled[i-5:i,0])\n",
    "    y_train.append(training_set_scaled[i,0]) #Ground truth\n",
    "X_train, y_train = np.array(X_train), np.array(y_train)  "
   ]
  },
  {
   "cell_type": "code",
   "execution_count": 26,
   "metadata": {},
   "outputs": [
    {
     "data": {
      "text/plain": [
       "(76, 5)"
      ]
     },
     "execution_count": 26,
     "metadata": {},
     "output_type": "execute_result"
    }
   ],
   "source": [
    "X_train.shape"
   ]
  },
  {
   "cell_type": "code",
   "execution_count": 27,
   "metadata": {},
   "outputs": [
    {
     "data": {
      "text/plain": [
       "(76,)"
      ]
     },
     "execution_count": 27,
     "metadata": {},
     "output_type": "execute_result"
    }
   ],
   "source": [
    "y_train.shape"
   ]
  },
  {
   "cell_type": "code",
   "execution_count": 28,
   "metadata": {},
   "outputs": [],
   "source": [
    "#Reshaping X_train\n",
    "X_train=np.reshape(X_train, (X_train.shape[0],X_train.shape[1],1))"
   ]
  },
  {
   "cell_type": "code",
   "execution_count": 29,
   "metadata": {},
   "outputs": [
    {
     "data": {
      "text/plain": [
       "(76, 5, 1)"
      ]
     },
     "execution_count": 29,
     "metadata": {},
     "output_type": "execute_result"
    }
   ],
   "source": [
    "X_train.shape"
   ]
  },
  {
   "cell_type": "markdown",
   "metadata": {},
   "source": [
    "### Building and training the RNN"
   ]
  },
  {
   "cell_type": "code",
   "execution_count": 30,
   "metadata": {},
   "outputs": [],
   "source": [
    "#Remember this is a regression problem\n",
    "regressor=Sequential()\n",
    "#First LSTM layer with 50 neurons\n",
    "regressor.add(LSTM(units=50,return_sequences=True,input_shape=(X_train.shape[1],1)))\n",
    "regressor.add(Dropout(0.2))\n",
    "#Second LSTM layer with 50 neurons\n",
    "regressor.add(LSTM(units=50,return_sequences=True))\n",
    "regressor.add(Dropout(0.2))\n",
    "#Third LSTM layer with 50 neurons\n",
    "regressor.add(LSTM(units=50,return_sequences=True))\n",
    "regressor.add(Dropout(0.2))\n",
    "#fourth LSTM layer with 50 neurons\n",
    "regressor.add(LSTM(units=50,return_sequences=False))\n",
    "regressor.add(Dropout(0.2))\n",
    "#Note that dropout is used for regularization\n",
    "#Adding the output layer\n",
    "#The output layer is a fully connected layer, fully connected to the previous LSTM layer\n",
    "#Dimension of the output layer is equal to 1\n",
    "regressor.add(Dense(units=1))\n",
    "\n",
    "#Compiling the RNN\n",
    "#we are doing regression so we use mean squared error as a loss function and not binary cross entropy\n",
    "regressor.compile(optimizer='adam',loss='mean_squared_error')"
   ]
  },
  {
   "cell_type": "code",
   "execution_count": 31,
   "metadata": {},
   "outputs": [
    {
     "name": "stdout",
     "output_type": "stream",
     "text": [
      "Train on 76 samples\n",
      "Epoch 1/100\n",
      "76/76 [==============================] - 3s 36ms/sample - loss: 0.1297\n",
      "Epoch 2/100\n",
      "76/76 [==============================] - 0s 2ms/sample - loss: 0.0776\n",
      "Epoch 3/100\n",
      "76/76 [==============================] - 0s 2ms/sample - loss: 0.0264\n",
      "Epoch 4/100\n",
      "76/76 [==============================] - 0s 2ms/sample - loss: 0.0155\n",
      "Epoch 5/100\n",
      "76/76 [==============================] - 0s 2ms/sample - loss: 0.0100\n",
      "Epoch 6/100\n",
      "76/76 [==============================] - 0s 2ms/sample - loss: 0.0127\n",
      "Epoch 7/100\n",
      "76/76 [==============================] - 0s 2ms/sample - loss: 0.0114\n",
      "Epoch 8/100\n",
      "76/76 [==============================] - 0s 2ms/sample - loss: 0.0115\n",
      "Epoch 9/100\n",
      "76/76 [==============================] - 0s 2ms/sample - loss: 0.0114\n",
      "Epoch 10/100\n",
      "76/76 [==============================] - 0s 2ms/sample - loss: 0.0067\n",
      "Epoch 11/100\n",
      "76/76 [==============================] - 0s 2ms/sample - loss: 0.0084\n",
      "Epoch 12/100\n",
      "76/76 [==============================] - 0s 2ms/sample - loss: 0.0092\n",
      "Epoch 13/100\n",
      "76/76 [==============================] - 0s 2ms/sample - loss: 0.0093\n",
      "Epoch 14/100\n",
      "76/76 [==============================] - 0s 2ms/sample - loss: 0.0056\n",
      "Epoch 15/100\n",
      "76/76 [==============================] - 0s 2ms/sample - loss: 0.0066\n",
      "Epoch 16/100\n",
      "76/76 [==============================] - 0s 2ms/sample - loss: 0.0043\n",
      "Epoch 17/100\n",
      "76/76 [==============================] - 0s 2ms/sample - loss: 0.0060\n",
      "Epoch 18/100\n",
      "76/76 [==============================] - 0s 2ms/sample - loss: 0.0058\n",
      "Epoch 19/100\n",
      "76/76 [==============================] - 0s 2ms/sample - loss: 0.0098\n",
      "Epoch 20/100\n",
      "76/76 [==============================] - 0s 2ms/sample - loss: 0.0041\n",
      "Epoch 21/100\n",
      "76/76 [==============================] - 0s 2ms/sample - loss: 0.0048\n",
      "Epoch 22/100\n",
      "76/76 [==============================] - 0s 2ms/sample - loss: 0.0063\n",
      "Epoch 23/100\n",
      "76/76 [==============================] - 0s 2ms/sample - loss: 0.0046\n",
      "Epoch 24/100\n",
      "76/76 [==============================] - 0s 2ms/sample - loss: 0.0036\n",
      "Epoch 25/100\n",
      "76/76 [==============================] - 0s 2ms/sample - loss: 0.0030\n",
      "Epoch 26/100\n",
      "76/76 [==============================] - 0s 2ms/sample - loss: 0.0051\n",
      "Epoch 27/100\n",
      "76/76 [==============================] - 0s 2ms/sample - loss: 0.0055\n",
      "Epoch 28/100\n",
      "76/76 [==============================] - 0s 2ms/sample - loss: 0.0049\n",
      "Epoch 29/100\n",
      "76/76 [==============================] - 0s 2ms/sample - loss: 0.0062\n",
      "Epoch 30/100\n",
      "76/76 [==============================] - 0s 2ms/sample - loss: 0.0052\n",
      "Epoch 31/100\n",
      "76/76 [==============================] - 0s 2ms/sample - loss: 0.0048\n",
      "Epoch 32/100\n",
      "76/76 [==============================] - 0s 2ms/sample - loss: 0.0058\n",
      "Epoch 33/100\n",
      "76/76 [==============================] - 0s 2ms/sample - loss: 0.0052\n",
      "Epoch 34/100\n",
      "76/76 [==============================] - 0s 2ms/sample - loss: 0.0045\n",
      "Epoch 35/100\n",
      "76/76 [==============================] - 0s 2ms/sample - loss: 0.0052\n",
      "Epoch 36/100\n",
      "76/76 [==============================] - 0s 2ms/sample - loss: 0.0054\n",
      "Epoch 37/100\n",
      "76/76 [==============================] - 0s 2ms/sample - loss: 0.0046\n",
      "Epoch 38/100\n",
      "76/76 [==============================] - 0s 2ms/sample - loss: 0.0042\n",
      "Epoch 39/100\n",
      "76/76 [==============================] - 0s 2ms/sample - loss: 0.0041\n",
      "Epoch 40/100\n",
      "76/76 [==============================] - 0s 2ms/sample - loss: 0.0047\n",
      "Epoch 41/100\n",
      "76/76 [==============================] - 0s 2ms/sample - loss: 0.0038\n",
      "Epoch 42/100\n",
      "76/76 [==============================] - 0s 2ms/sample - loss: 0.0039\n",
      "Epoch 43/100\n",
      "76/76 [==============================] - 0s 2ms/sample - loss: 0.0051\n",
      "Epoch 44/100\n",
      "76/76 [==============================] - 0s 2ms/sample - loss: 0.0039\n",
      "Epoch 45/100\n",
      "76/76 [==============================] - 0s 2ms/sample - loss: 0.0051\n",
      "Epoch 46/100\n",
      "76/76 [==============================] - 0s 2ms/sample - loss: 0.0047\n",
      "Epoch 47/100\n",
      "76/76 [==============================] - 0s 2ms/sample - loss: 0.0058\n",
      "Epoch 48/100\n",
      "76/76 [==============================] - 0s 2ms/sample - loss: 0.0049\n",
      "Epoch 49/100\n",
      "76/76 [==============================] - 0s 2ms/sample - loss: 0.0033\n",
      "Epoch 50/100\n",
      "76/76 [==============================] - 0s 2ms/sample - loss: 0.0041\n",
      "Epoch 51/100\n",
      "76/76 [==============================] - 0s 2ms/sample - loss: 0.0057\n",
      "Epoch 52/100\n",
      "76/76 [==============================] - 0s 2ms/sample - loss: 0.0040\n",
      "Epoch 53/100\n",
      "76/76 [==============================] - 0s 2ms/sample - loss: 0.0031\n",
      "Epoch 54/100\n",
      "76/76 [==============================] - 0s 2ms/sample - loss: 0.0042\n",
      "Epoch 55/100\n",
      "76/76 [==============================] - 0s 2ms/sample - loss: 0.0036\n",
      "Epoch 56/100\n",
      "76/76 [==============================] - 0s 2ms/sample - loss: 0.0048\n",
      "Epoch 57/100\n",
      "76/76 [==============================] - 0s 2ms/sample - loss: 0.0045\n",
      "Epoch 58/100\n",
      "76/76 [==============================] - 0s 2ms/sample - loss: 0.0050\n",
      "Epoch 59/100\n",
      "76/76 [==============================] - 0s 2ms/sample - loss: 0.0039\n",
      "Epoch 60/100\n",
      "76/76 [==============================] - 0s 2ms/sample - loss: 0.0030\n",
      "Epoch 61/100\n",
      "76/76 [==============================] - 0s 2ms/sample - loss: 0.0050\n",
      "Epoch 62/100\n",
      "76/76 [==============================] - 0s 2ms/sample - loss: 0.0043\n",
      "Epoch 63/100\n",
      "76/76 [==============================] - 0s 2ms/sample - loss: 0.0048\n",
      "Epoch 64/100\n",
      "76/76 [==============================] - 0s 2ms/sample - loss: 0.0042\n",
      "Epoch 65/100\n",
      "76/76 [==============================] - 0s 2ms/sample - loss: 0.0046\n",
      "Epoch 66/100\n",
      "76/76 [==============================] - 0s 2ms/sample - loss: 0.0034\n",
      "Epoch 67/100\n",
      "76/76 [==============================] - 0s 2ms/sample - loss: 0.0043\n",
      "Epoch 68/100\n",
      "76/76 [==============================] - 0s 2ms/sample - loss: 0.0045\n",
      "Epoch 69/100\n",
      "76/76 [==============================] - 0s 2ms/sample - loss: 0.0037\n",
      "Epoch 70/100\n",
      "76/76 [==============================] - 0s 3ms/sample - loss: 0.0044\n",
      "Epoch 71/100\n",
      "76/76 [==============================] - 0s 2ms/sample - loss: 0.0036\n",
      "Epoch 72/100\n",
      "76/76 [==============================] - 0s 2ms/sample - loss: 0.0049\n",
      "Epoch 73/100\n",
      "76/76 [==============================] - 0s 2ms/sample - loss: 0.0052\n",
      "Epoch 74/100\n",
      "76/76 [==============================] - 0s 2ms/sample - loss: 0.0055\n",
      "Epoch 75/100\n",
      "76/76 [==============================] - 0s 2ms/sample - loss: 0.0046\n",
      "Epoch 76/100\n",
      "76/76 [==============================] - 0s 2ms/sample - loss: 0.0039\n",
      "Epoch 77/100\n",
      "76/76 [==============================] - 0s 2ms/sample - loss: 0.0045\n",
      "Epoch 78/100\n",
      "76/76 [==============================] - 0s 2ms/sample - loss: 0.0036\n",
      "Epoch 79/100\n",
      "76/76 [==============================] - 0s 2ms/sample - loss: 0.0049\n",
      "Epoch 80/100\n",
      "76/76 [==============================] - 0s 2ms/sample - loss: 0.0049\n",
      "Epoch 81/100\n",
      "76/76 [==============================] - 0s 2ms/sample - loss: 0.0051\n",
      "Epoch 82/100\n",
      "76/76 [==============================] - 0s 2ms/sample - loss: 0.0028\n",
      "Epoch 83/100\n",
      "76/76 [==============================] - 0s 2ms/sample - loss: 0.0045\n",
      "Epoch 84/100\n",
      "76/76 [==============================] - 0s 2ms/sample - loss: 0.0044\n",
      "Epoch 85/100\n",
      "76/76 [==============================] - 0s 2ms/sample - loss: 0.0048\n",
      "Epoch 86/100\n",
      "76/76 [==============================] - 0s 2ms/sample - loss: 0.0045\n",
      "Epoch 87/100\n",
      "76/76 [==============================] - 0s 2ms/sample - loss: 0.0038\n",
      "Epoch 88/100\n",
      "76/76 [==============================] - 0s 2ms/sample - loss: 0.0034\n",
      "Epoch 89/100\n",
      "76/76 [==============================] - 0s 2ms/sample - loss: 0.0053\n",
      "Epoch 90/100\n",
      "76/76 [==============================] - 0s 2ms/sample - loss: 0.0041\n",
      "Epoch 91/100\n",
      "76/76 [==============================] - 0s 2ms/sample - loss: 0.0041\n",
      "Epoch 92/100\n",
      "76/76 [==============================] - 0s 2ms/sample - loss: 0.0042\n",
      "Epoch 93/100\n",
      "76/76 [==============================] - 0s 2ms/sample - loss: 0.0038\n",
      "Epoch 94/100\n",
      "76/76 [==============================] - 0s 2ms/sample - loss: 0.0079\n",
      "Epoch 95/100\n",
      "76/76 [==============================] - 0s 2ms/sample - loss: 0.0037\n",
      "Epoch 96/100\n",
      "76/76 [==============================] - 0s 2ms/sample - loss: 0.0031\n",
      "Epoch 97/100\n",
      "76/76 [==============================] - 0s 2ms/sample - loss: 0.0035\n",
      "Epoch 98/100\n",
      "76/76 [==============================] - 0s 2ms/sample - loss: 0.0039\n",
      "Epoch 99/100\n",
      "76/76 [==============================] - 0s 2ms/sample - loss: 0.0047\n",
      "Epoch 100/100\n",
      "76/76 [==============================] - 0s 2ms/sample - loss: 0.0041\n"
     ]
    },
    {
     "data": {
      "text/plain": [
       "<tensorflow.python.keras.callbacks.History at 0x7fe76b042f98>"
      ]
     },
     "execution_count": 31,
     "metadata": {},
     "output_type": "execute_result"
    }
   ],
   "source": [
    "# Fitting the RNN to the Training set\n",
    "regressor.fit(X_train,y_train,epochs=100,batch_size=5)"
   ]
  },
  {
   "cell_type": "markdown",
   "metadata": {},
   "source": [
    "### Making the predictions and visualising the results"
   ]
  },
  {
   "cell_type": "code",
   "execution_count": 32,
   "metadata": {},
   "outputs": [],
   "source": [
    "dataset_total = pd.concat((pd.Series(training_set_scaled.flatten()),\n",
    "                               pd.Series(testing_set_scaled.flatten())),axis=0)            \n",
    "inputs=dataset_total[len(dataset_total)-len(testing_set_scaled)-5:].values"
   ]
  },
  {
   "cell_type": "code",
   "execution_count": 33,
   "metadata": {},
   "outputs": [
    {
     "data": {
      "text/plain": [
       "(10,)"
      ]
     },
     "execution_count": 33,
     "metadata": {},
     "output_type": "execute_result"
    }
   ],
   "source": [
    "inputs.shape"
   ]
  },
  {
   "cell_type": "code",
   "execution_count": 34,
   "metadata": {},
   "outputs": [],
   "source": [
    "inputs=inputs.reshape(-1,1)"
   ]
  },
  {
   "cell_type": "code",
   "execution_count": 35,
   "metadata": {},
   "outputs": [
    {
     "data": {
      "text/plain": [
       "(10, 1)"
      ]
     },
     "execution_count": 35,
     "metadata": {},
     "output_type": "execute_result"
    }
   ],
   "source": [
    "inputs.shape"
   ]
  },
  {
   "cell_type": "code",
   "execution_count": 36,
   "metadata": {},
   "outputs": [
    {
     "data": {
      "text/plain": [
       "(5, 5, 1)"
      ]
     },
     "execution_count": 36,
     "metadata": {},
     "output_type": "execute_result"
    }
   ],
   "source": [
    "X_test=[]\n",
    "\n",
    "#We take the 5 previous days also so total is 20\n",
    "for i in range(5, 10):\n",
    "    X_test.append(inputs[i-5:i,0])\n",
    "X_test = np.array(X_test)\n",
    "X_test=np.reshape(X_test, (X_test.shape[0],X_test.shape[1],1))\n",
    "X_test.shape"
   ]
  },
  {
   "cell_type": "code",
   "execution_count": 37,
   "metadata": {},
   "outputs": [],
   "source": [
    "#Prediction\n",
    "predicted_covid_cases = regressor.predict(X_test)\n",
    "#Get original scale of the scaled values\n",
    "predicted_covid_cases = sc.inverse_transform(predicted_covid_cases)\n"
   ]
  },
  {
   "cell_type": "code",
   "execution_count": 38,
   "metadata": {},
   "outputs": [
    {
     "data": {
      "image/png": "[encoded data removed]",
      "text/plain": [
       "<Figure size 1800x1800 with 1 Axes>"
      ]
     },
     "metadata": {
      "needs_background": "light"
     },
     "output_type": "display_data"
    }
   ],
   "source": [
    "#visualising the results\n",
    "plt.plot(testing_set.index,testing_set.values, color = 'red',label='Real Covid Cases')\n",
    "plt.plot(testing_set.index,predicted_covid_cases, color = 'blue',label='Predicted Covid Cases')\n",
    "\n",
    "plt.title('Corona virus cases Prediction')\n",
    "plt.xlabel('Time')\n",
    "plt.xticks(rotation=45)\n",
    "plt.ylabel('# of cases')\n",
    "plt.legend()\n",
    "plt.rcParams[\"figure.figsize\"] = (15,15)\n",
    "plt.show()"
   ]
  },
  {
   "cell_type": "markdown",
   "metadata": {},
   "source": [
    "As expected, the prediction of our model is not realistic, because we have been using the last five days to predict the number of cases, which is not how the number of cases is actually predicted. Nonetheless, the main goal is to provide insight into how to use LSTM for time series forecasting."
   ]
  },
  {
   "cell_type": "code",
   "execution_count": 39,
   "metadata": {},
   "outputs": [
    {
     "name": "stdout",
     "output_type": "stream",
     "text": [
      "12912.538168785855\n"
     ]
    }
   ],
   "source": [
    "# CALCULATE RMSE (Root mean squared error)\n",
    "import math\n",
    "from sklearn.metrics import mean_squared_error\n",
    "rmse = math.sqrt(mean_squared_error(testing_set.values, predicted_covid_cases))\n",
    "print(rmse)"
   ]
  },
  {
   "cell_type": "markdown",
   "metadata": {},
   "source": [
    "The problem of predicting Covid-19 cases every day is a complicated one. Many factors play a major role in the spread of the virus and the number of people infected. Hope everything is going to be back to normal soon."
   ]
  },
  {
   "cell_type": "markdown",
   "metadata": {},
   "source": [
    "### References\n",
    "[1] Thanks to Venelin Valkov for his amazing tutorial in https://www.curiousily.com/posts/time-series-forecasting-with-lstm-for-daily-coronavirus-cases/ "
   ]
  },
  {
   "cell_type": "code",
   "execution_count": null,
   "metadata": {},
   "outputs": [],
   "source": []
  }
 ],
 "metadata": {
  "kernelspec": {
   "display_name": "Python 3",
   "language": "python",
   "name": "python3"
  },
  "language_info": {
   "codemirror_mode": {
    "name": "ipython",
    "version": 3
   },
   "file_extension": ".py",
   "mimetype": "text/x-python",
   "name": "python",
   "nbconvert_exporter": "python",
   "pygments_lexer": "ipython3",
   "version": "3.8.3"
  }
 },
 "nbformat": 4,
 "nbformat_minor": 2
}
