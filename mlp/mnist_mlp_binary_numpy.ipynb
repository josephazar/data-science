{
 "cells": [
  {
   "cell_type": "markdown",
   "metadata": {},
   "source": [
    "### Importing the libraries"
   ]
  },
  {
   "cell_type": "code",
   "execution_count": 2,
   "metadata": {},
   "outputs": [],
   "source": [
    "import pandas as pd\n",
    "import numpy as np\n",
    "import matplotlib.pyplot as plt\n",
    "import matplotlib as mpl"
   ]
  },
  {
   "cell_type": "markdown",
   "metadata": {},
   "source": [
    "### Reading the training and testing sets"
   ]
  },
  {
   "cell_type": "markdown",
   "metadata": {},
   "source": [
    "#### Use this link to download the datasets: https://pjreddie.com/projects/mnist-in-csv/"
   ]
  },
  {
   "cell_type": "code",
   "execution_count": 4,
   "metadata": {
    "scrolled": true
   },
   "outputs": [
    {
     "data": {
      "image/png": "[encoded data removed]",
      "text/plain": [
       "<Figure size 432x288 with 1 Axes>"
      ]
     },
     "metadata": {
      "needs_background": "light"
     },
     "output_type": "display_data"
    }
   ],
   "source": [
    "df_train=pd.read_csv(\"../../data/mnist_train.csv\",header=None)\n",
    "df_test=pd.read_csv(\"../../data/mnist_test.csv\",header=None)\n",
    "\n",
    "\n",
    "\n",
    "x_train=df_train.iloc[:,1:].values\n",
    "y_train=df_train.iloc[:,0].values\n",
    "x_test=df_test.iloc[:,1:].values\n",
    "y_test=df_test.iloc[:,0].values\n",
    "\n",
    "\n",
    "#visualize image\n",
    "rand_digit = x_train[0]\n",
    "rand_digit_image = rand_digit.reshape(28, 28)\n",
    "plt.imshow(rand_digit_image, cmap = mpl.cm.binary, interpolation=\"nearest\")\n",
    "plt.axis(\"off\")\n",
    "plt.show()\n"
   ]
  },
  {
   "cell_type": "markdown",
   "metadata": {},
   "source": [
    "### Convert the problem to a binary classification problem\n",
    "#### predict weither a digit is 3 or not"
   ]
  },
  {
   "cell_type": "code",
   "execution_count": 12,
   "metadata": {},
   "outputs": [
    {
     "name": "stdout",
     "output_type": "stream",
     "text": [
      "0    53869\n",
      "1     6131\n",
      "dtype: int64\n",
      "0    8990\n",
      "1    1010\n",
      "dtype: int64\n"
     ]
    }
   ],
   "source": [
    "y_train_3 = (y_train == 3)\n",
    "y_test_3 = (y_test == 3)\n",
    "\n",
    "y_train_3=y_train_3.astype(np.int8)\n",
    "y_test_3=y_test_3.astype(np.int8)\n",
    "\n",
    "print(pd.Series(y_train_3).value_counts())\n",
    "print(pd.Series(y_test_3).value_counts())\n"
   ]
  },
  {
   "cell_type": "markdown",
   "metadata": {},
   "source": [
    "### Check the shape of the data"
   ]
  },
  {
   "cell_type": "code",
   "execution_count": 15,
   "metadata": {},
   "outputs": [
    {
     "name": "stdout",
     "output_type": "stream",
     "text": [
      "Shape X train: (60000, 784)\n",
      "Shape X test: (60000, 784)\n",
      "Shape y train: (60000,)\n",
      "Shape y test: (10000,)\n"
     ]
    }
   ],
   "source": [
    "print(\"Shape X train: \" + str(x_train.shape))\n",
    "print(\"Shape X test: \" + str(x_train.shape))\n",
    "print(\"Shape y train: \" + str(y_train_3.shape))\n",
    "print(\"Shape y test: \" + str(y_test_3.shape))"
   ]
  },
  {
   "cell_type": "markdown",
   "metadata": {},
   "source": [
    "### We need to reshape the X train and X test to be $(Nx,m)$ where $Nx$ is the number of features and $m$ is the number of samples"
   ]
  },
  {
   "cell_type": "code",
   "execution_count": 16,
   "metadata": {},
   "outputs": [],
   "source": [
    "x_train=x_train.T\n",
    "x_test=x_test.T"
   ]
  },
  {
   "cell_type": "code",
   "execution_count": 17,
   "metadata": {},
   "outputs": [
    {
     "name": "stdout",
     "output_type": "stream",
     "text": [
      "Shape X train: (784, 60000)\n",
      "Shape X test: (784, 60000)\n"
     ]
    }
   ],
   "source": [
    "print(\"Shape X train: \" + str(x_train.shape))\n",
    "print(\"Shape X test: \" + str(x_train.shape))"
   ]
  },
  {
   "cell_type": "markdown",
   "metadata": {},
   "source": [
    "### In the same way, we need to reshape the Y train and Y test to be  (1,𝑚)  where   𝑚  is the number of samples"
   ]
  },
  {
   "cell_type": "code",
   "execution_count": 23,
   "metadata": {},
   "outputs": [],
   "source": [
    "y_train_3=y_train_3.reshape(1,len(y_train_3))\n",
    "y_test_3=y_test_3.reshape(1,len(y_test_3))"
   ]
  },
  {
   "cell_type": "code",
   "execution_count": 24,
   "metadata": {},
   "outputs": [
    {
     "name": "stdout",
     "output_type": "stream",
     "text": [
      "Shape y train: (1, 60000)\n",
      "Shape y test: (1, 10000)\n"
     ]
    }
   ],
   "source": [
    "print(\"Shape y train: \" + str(y_train_3.shape))\n",
    "print(\"Shape y test: \" + str(y_test_3.shape))"
   ]
  },
  {
   "cell_type": "markdown",
   "metadata": {},
   "source": [
    "### Initialize parameters"
   ]
  },
  {
   "cell_type": "code",
   "execution_count": 25,
   "metadata": {},
   "outputs": [],
   "source": [
    "def initialize_params(dims):\n",
    "    params={}\n",
    "    #number of layers\n",
    "    L=len(dims)\n",
    "    #Weights W are initialized randomly\n",
    "    for i in range(1,L):\n",
    "        params['W' + str(i)]=np.random.randn(dims[i],dims[i-1]) * 0.01\n",
    "        params['b' + str(i)]=np.zeros((dims[i],1))\n",
    "    return params"
   ]
  },
  {
   "cell_type": "markdown",
   "metadata": {},
   "source": [
    "### Forward propagation"
   ]
  },
  {
   "cell_type": "code",
   "execution_count": 27,
   "metadata": {},
   "outputs": [],
   "source": [
    "def sigmoid(Z):\n",
    "    return 1/(1+np.exp(-Z))\n",
    "\n",
    "def relu(Z):\n",
    "    return np.maximum(0,Z)"
   ]
  },
  {
   "cell_type": "code",
   "execution_count": 28,
   "metadata": {},
   "outputs": [],
   "source": [
    "def forward_propagation(X,params):\n",
    "    caches=[]\n",
    "    A=X\n",
    "    #number of layers\n",
    "    L=len(params)//2\n",
    "    #LINEAR => RELU\n",
    "    for i in range(1,L):\n",
    "        A_prev=A\n",
    "        W,b=params['W' + str(i)],params['b' + str(i)]\n",
    "        Z=W.dot(A_prev)+b\n",
    "        A=relu(Z)\n",
    "        caches.append((A_prev,W,b,Z))\n",
    "    \n",
    "    W,b=params['W' + str(L)],params['b' + str(L)]\n",
    "    Z=W.dot(A)+b\n",
    "    AL=sigmoid(Z)\n",
    "    caches.append((A,W,b,Z))\n",
    "    return AL, caches"
   ]
  },
  {
   "cell_type": "markdown",
   "metadata": {},
   "source": [
    "### Compute the cost function $\\frac{-1}{m}\\sum Y\\log A_L + (1-Y)\\log (1-A_L)$"
   ]
  },
  {
   "cell_type": "code",
   "execution_count": 29,
   "metadata": {},
   "outputs": [],
   "source": [
    "def compute_cost(AL,Y):\n",
    "    m=Y.shape[1]\n",
    "    cost=(-1./m)*np.sum(np.multiply(np.log(AL),Y) + np.multiply(np.log(1-AL),1-Y))\n",
    "    cost=np.squeeze(cost)\n",
    "    return cost"
   ]
  },
  {
   "cell_type": "markdown",
   "metadata": {},
   "source": [
    "### Backward propagation"
   ]
  },
  {
   "cell_type": "code",
   "execution_count": 30,
   "metadata": {},
   "outputs": [],
   "source": [
    "def backward_propagation(AL,Y,caches):\n",
    "    grads={}\n",
    "    #number of layers\n",
    "    L=len(caches)\n",
    "    m=AL.shape[1]\n",
    "    Y=Y.reshape(AL.shape)\n",
    "    \n",
    "    #initializing backpropagation\n",
    "    dAL=-(np.divide(Y,AL)-np.divide(1-Y,1-AL))\n",
    "    A_prev,W,b,Z=caches[L-1]\n",
    "    #dAL * derivative of sigmoid of Z with respect to Z\n",
    "    dZ=dAL*sigmoid(Z)*(1-sigmoid(Z))\n",
    "    m=A_prev.shape[1]\n",
    "    dW=1./m * np.dot(dZ,A_prev.T)\n",
    "    db=1./m * np.sum(dZ,axis=1,keepdims=True)\n",
    "    dA_prev=np.dot(W.T,dZ)\n",
    "    grads[\"dA\" + str(L-1)] = dA_prev\n",
    "    grads[\"dW\" + str(L)] = dW\n",
    "    grads[\"db\" + str(L)] = db\n",
    "    \n",
    "    for l in reversed(range(L-1)):\n",
    "        A_prev,W,b,Z=caches[l]\n",
    "        #relu\n",
    "        dZ=np.array(grads[\"dA\" + str(l+1)],copy=True)\n",
    "        dZ[Z<=0] = 0\n",
    "        \n",
    "        m=A_prev.shape[1]\n",
    "        dW=1./m * np.dot(dZ,A_prev.T)\n",
    "        db=1./m * np.sum(dZ,axis=1,keepdims=True)\n",
    "        dA_prev=np.dot(W.T,dZ)        \n",
    "        grads[\"dA\" + str(l)] = dA_prev\n",
    "        grads[\"dW\" + str(l+1)] = dW\n",
    "        grads[\"db\" + str(l+1)] = db  \n",
    "    return grads"
   ]
  },
  {
   "cell_type": "markdown",
   "metadata": {},
   "source": [
    "### Update parameters"
   ]
  },
  {
   "cell_type": "code",
   "execution_count": 31,
   "metadata": {},
   "outputs": [],
   "source": [
    "def update_params(params,grads,learning_rate):\n",
    "    #number of layers\n",
    "    L=len(params)//2\n",
    "    for l in range(L):\n",
    "        params[\"W\" + str(l+1)]=params[\"W\" + str(l+1)] - learning_rate*grads[\"dW\" + str(l+1)]\n",
    "        params[\"b\" + str(l+1)]=params[\"b\" + str(l+1)] - learning_rate*grads[\"db\" + str(l+1)]\n",
    "    return params"
   ]
  },
  {
   "cell_type": "markdown",
   "metadata": {},
   "source": [
    "### Predict"
   ]
  },
  {
   "cell_type": "code",
   "execution_count": 35,
   "metadata": {},
   "outputs": [],
   "source": [
    "def predict(X,y,params):\n",
    "    m=X.shape[1]\n",
    "    n=len(params)//2 #num layers\n",
    "    p=np.zeros((1,m))\n",
    "    \n",
    "    probabilities,caches=forward_propagation(X,params)\n",
    "    \n",
    "    for i in range(probabilities.shape[1]):\n",
    "        if probabilities[0,i] > 0.5:\n",
    "            p[0,i]=1\n",
    "        else:\n",
    "            p[0,i]=0\n",
    "    \n",
    "    print(\"Accuracy: \" + str(np.sum((p==y)/m)))"
   ]
  },
  {
   "cell_type": "markdown",
   "metadata": {},
   "source": [
    "### L-layer Neural Network"
   ]
  },
  {
   "cell_type": "code",
   "execution_count": 32,
   "metadata": {},
   "outputs": [],
   "source": [
    "layers_dims=[x_train.shape[0],16,32,1] #3-layer model"
   ]
  },
  {
   "cell_type": "code",
   "execution_count": 33,
   "metadata": {},
   "outputs": [],
   "source": [
    "def model(X,Y,layers_dims,learning_rate=0.001,num_iterations=3000,print_cost=False):\n",
    "    costs=[]\n",
    "    params=initialize_params(layers_dims)\n",
    "    for i in range(num_iterations):\n",
    "        AL,caches=forward_propagation(X,params)\n",
    "        cost=compute_cost(AL,Y)\n",
    "        grads=backward_propagation(AL,Y,caches)\n",
    "        params=update_params(params,grads,learning_rate)\n",
    "        if print_cost and i % 100 == 0:\n",
    "            print(\"cost after iteration %i: %f\" % (i,cost))\n",
    "            costs.append(cost)\n",
    "    \n",
    "    plt.plot(np.squeeze(costs))\n",
    "    plt.ylabel('cost')\n",
    "    plt.xlabel('iterations (per hundreds)')\n",
    "    plt.title(\"Learning rate=\" + str(learning_rate))\n",
    "    plt.show()\n",
    "    \n",
    "    return params"
   ]
  },
  {
   "cell_type": "code",
   "execution_count": 34,
   "metadata": {},
   "outputs": [
    {
     "name": "stdout",
     "output_type": "stream",
     "text": [
      "cost after iteration 0: 0.699535\n",
      "cost after iteration 100: 0.489906\n",
      "cost after iteration 200: 0.256874\n",
      "cost after iteration 300: 0.187636\n",
      "cost after iteration 400: 0.168567\n",
      "cost after iteration 500: 0.159134\n",
      "cost after iteration 600: 0.153204\n",
      "cost after iteration 700: 0.148824\n",
      "cost after iteration 800: 0.145140\n",
      "cost after iteration 900: 0.141681\n",
      "cost after iteration 1000: 0.138028\n",
      "cost after iteration 1100: 0.133235\n",
      "cost after iteration 1200: 0.125303\n",
      "cost after iteration 1300: 0.112184\n",
      "cost after iteration 1400: 0.099331\n",
      "cost after iteration 1500: 0.091817\n",
      "cost after iteration 1600: 0.087144\n",
      "cost after iteration 1700: 0.083558\n",
      "cost after iteration 1800: 0.080427\n",
      "cost after iteration 1900: 0.077579\n",
      "cost after iteration 2000: 0.074882\n",
      "cost after iteration 2100: 0.072369\n",
      "cost after iteration 2200: 0.070028\n",
      "cost after iteration 2300: 0.067822\n",
      "cost after iteration 2400: 0.065728\n",
      "cost after iteration 2500: 0.063754\n",
      "cost after iteration 2600: 0.061875\n",
      "cost after iteration 2700: 0.060106\n",
      "cost after iteration 2800: 0.058449\n",
      "cost after iteration 2900: 0.056876\n"
     ]
    },
    {
     "data": {
      "image/png": "[encoded data removed]",
      "text/plain": [
       "<Figure size 432x288 with 1 Axes>"
      ]
     },
     "metadata": {
      "needs_background": "light"
     },
     "output_type": "display_data"
    }
   ],
   "source": [
    "params=model(x_train,y_train_3,layers_dims,print_cost=True)"
   ]
  },
  {
   "cell_type": "markdown",
   "metadata": {},
   "source": [
    "### Predict training set"
   ]
  },
  {
   "cell_type": "code",
   "execution_count": 36,
   "metadata": {},
   "outputs": [
    {
     "name": "stdout",
     "output_type": "stream",
     "text": [
      "Accuracy: 0.9834\n"
     ]
    }
   ],
   "source": [
    "pred_train=predict(x_train,y_train_3,params)"
   ]
  },
  {
   "cell_type": "markdown",
   "metadata": {},
   "source": [
    "### Predict testing set"
   ]
  },
  {
   "cell_type": "code",
   "execution_count": 37,
   "metadata": {},
   "outputs": [
    {
     "name": "stdout",
     "output_type": "stream",
     "text": [
      "Accuracy: 0.9859000000000003\n"
     ]
    }
   ],
   "source": [
    "pred_test=predict(x_test,y_test_3,params)"
   ]
  },
  {
   "cell_type": "code",
   "execution_count": null,
   "metadata": {},
   "outputs": [],
   "source": []
  }
 ],
 "metadata": {
  "kernelspec": {
   "display_name": "Python 3",
   "language": "python",
   "name": "python3"
  },
  "language_info": {
   "codemirror_mode": {
    "name": "ipython",
    "version": 3
   },
   "file_extension": ".py",
   "mimetype": "text/x-python",
   "name": "python",
   "nbconvert_exporter": "python",
   "pygments_lexer": "ipython3",
   "version": "3.7.3"
  }
 },
 "nbformat": 4,
 "nbformat_minor": 2
}
